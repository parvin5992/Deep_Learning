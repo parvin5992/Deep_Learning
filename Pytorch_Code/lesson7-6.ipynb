{
 "cells": [
  {
   "cell_type": "markdown",
   "id": "e7a41421-1941-4b3e-b73d-c017131ed091",
   "metadata": {
    "jp-MarkdownHeadingCollapsed": true
   },
   "source": [
    "### Replace tensor data value"
   ]
  },
  {
   "cell_type": "code",
   "execution_count": 1,
   "id": "a837e7ae-4bce-47ee-91cc-4a6e91d21333",
   "metadata": {},
   "outputs": [],
   "source": [
    "import torch\n",
    "import numpy as np\n",
    "from matplotlib import pyplot as plt"
   ]
  },
  {
   "cell_type": "code",
   "execution_count": null,
   "id": "14b14b7e-4d71-40e3-98b6-25a1e1a815b4",
   "metadata": {},
   "outputs": [],
   "source": [
    "data=torch.randint(1,21,(5,5))#ماتریس 5*5 بین 1تا 20\n",
    "print(data)\n",
    "print(data.zero_())\n",
    "print(data.fill_(1))\n",
    "data=torch.eye(data.shape[1])\n",
    "print(data)\n",
    "z=torch.zeros_like(data)\n",
    "print(z)"
   ]
  },
  {
   "cell_type": "code",
   "execution_count": 14,
   "id": "012e139c",
   "metadata": {},
   "outputs": [
    {
     "name": "stdout",
     "output_type": "stream",
     "text": [
      "tensor([[12, 10,  5, 10, 18],\n",
      "        [17,  3, 16, 20, 20],\n",
      "        [11,  6,  8, 19,  6],\n",
      "        [ 9, 12, 18,  5, 12],\n",
      "        [ 3, 13,  6, 20, 19]])\n",
      "tensor([[0, 0, 0, 0, 0],\n",
      "        [0, 0, 0, 0, 0],\n",
      "        [0, 0, 0, 0, 0],\n",
      "        [0, 0, 0, 0, 0],\n",
      "        [0, 0, 0, 0, 0]])\n"
     ]
    }
   ],
   "source": [
    "data=torch.randint(1,21,(5,5))#ماتریس 5*5 بین 1تا 20\n",
    "print(data)\n",
    "z=torch.zeros_like(data)\n",
    "print(z)"
   ]
  },
  {
   "cell_type": "markdown",
   "id": "45044d0a-47cb-4eb2-aebb-c3c860d48c42",
   "metadata": {
    "jp-MarkdownHeadingCollapsed": true
   },
   "source": [
    "### Pytorch Operation"
   ]
  },
  {
   "cell_type": "code",
   "execution_count": 18,
   "id": "905dc04d-5d30-4a6d-a42c-696df247470c",
   "metadata": {},
   "outputs": [
    {
     "name": "stdout",
     "output_type": "stream",
     "text": [
      "tensor([13, 11,  8, 20,  4, 18,  4, 14])\n",
      "tensor([17, 15, 14, 20, 16, 16, 17, 18])\n",
      "tensor([11, 13, 12, 19, 18,  6,  1, 12,  2, 15])\n",
      "====================================================================================================\n",
      "V1 + V2 ==>\n",
      " tensor([30, 26, 22, 40, 20, 34, 21, 32])\n",
      "V1 - V2 ==>\n",
      " tensor([ -4,  -4,  -6,   0, -12,   2, -13,  -4])\n",
      "V1 * V2 ==>\n",
      " tensor([221, 165, 112, 400,  64, 288,  68, 252])\n",
      "V1 / V2 ==>\n",
      " tensor([0.7647, 0.7333, 0.5714, 1.0000, 0.2500, 1.1250, 0.2353, 0.7778])\n"
     ]
    }
   ],
   "source": [
    "V1=torch.randint(1,21,(8,))\n",
    "V2=torch.randint(1,21,(8,))\n",
    "V3=torch.randint(1,21,(10,))\n",
    "print(V1)\n",
    "print(V2)\n",
    "print(V3)\n",
    "print(100*\"=\")\n",
    "print(f\"V1 + V2 ==>\\n {V1 + V2}\")\n",
    "# print(f\"V1 + V2 ==>\\n {V1 + V3}\")\n",
    "print(f\"V1 - V2 ==>\\n {V1 - V2}\")\n",
    "print(f\"V1 * V2 ==>\\n {V1 * V2}\")\n",
    "print(f\"V1 / V2 ==>\\n {V1 / V2}\")\n"
   ]
  },
  {
   "cell_type": "code",
   "execution_count": 21,
   "id": "306b8901-855c-48ba-aa58-f0fa9eaf3102",
   "metadata": {},
   "outputs": [
    {
     "name": "stdout",
     "output_type": "stream",
     "text": [
      "mat1 @ mat2 ==>\n",
      " tensor([[174, 421, 345, 305, 499, 374, 219],\n",
      "        [326, 729, 702, 501, 872, 670, 323],\n",
      "        [401, 678, 548, 571, 907, 762, 474]])\n",
      "mat1 * mat2 ==>\n",
      " tensor([[174, 421, 345, 305, 499, 374, 219],\n",
      "        [326, 729, 702, 501, 872, 670, 323],\n",
      "        [401, 678, 548, 571, 907, 762, 474]])\n"
     ]
    }
   ],
   "source": [
    "mat1=torch.randint(1,21,(3,4))\n",
    "mat2=torch.randint(1,21,(3,4))\n",
    "mat3=torch.randint(1,21,(4,7))\n",
    "# print(f\"mat1 + mat2 ==>\\n {mat1 + mat2}\")\n",
    "# print(100*\"_\")\n",
    "# print(f\"mat1 - mat2 ==>\\n {mat1 - mat2}\")\n",
    "# print(100*\"_\")\n",
    "# print(f\"mat1 * mat2 ==>\\n {mat1 * mat2}\")\n",
    "# print(100*\"_\")\n",
    "# print(f\"mat1 / mat2 ==>\\n {mat1 / mat2}\")\n",
    "# print(100*\"_\")\n",
    "print(f\"mat1 @ mat2 ==>\\n {mat1 @ mat3}\")\n",
    "# print(100*\"_\")\n",
    "# print(f\"mat1 * mat3 ==>\\n {mat1 * mat3}\")\n",
    "print(f\"mat1 * mat2 ==>\\n {torch.matmul(mat1 , mat3)}\")# ضرب ماتریسی"
   ]
  },
  {
   "cell_type": "markdown",
   "id": "c1e5a000-7d8d-4042-a7de-dae1689e4708",
   "metadata": {
    "jp-MarkdownHeadingCollapsed": true
   },
   "source": [
    "### Tensor Indexing"
   ]
  },
  {
   "cell_type": "code",
   "execution_count": 23,
   "id": "d25675d3-e388-40b0-b8cc-65e8924f9e8d",
   "metadata": {},
   "outputs": [
    {
     "name": "stdout",
     "output_type": "stream",
     "text": [
      "tensor([[ 3,  8, 17, 15,  7, 16],\n",
      "        [ 1,  5, 11, 14, 19, 15],\n",
      "        [11, 15, 12, 13, 16, 16]])\n",
      "tensor(8)\n",
      "tensor(15)\n",
      "tensor(16)\n",
      "tensor([11, 15, 12, 13, 16, 16])\n"
     ]
    }
   ],
   "source": [
    "torch.manual_seed(42)\n",
    "vector_data=torch.randint(1,21,(3,6))\n",
    "print(vector_data)\n",
    "print(vector_data[0,1])\n",
    "print(vector_data[-1,1])\n",
    "print(vector_data[-1,-1])\n",
    "print(vector_data[2])\n"
   ]
  },
  {
   "cell_type": "markdown",
   "id": "d3c3a0d2-13d3-4056-9de5-1a37e82a2e54",
   "metadata": {
    "jp-MarkdownHeadingCollapsed": true
   },
   "source": [
    "### Tensor slicing"
   ]
  },
  {
   "cell_type": "code",
   "execution_count": 30,
   "id": "16f1d0b5-9f56-469d-babb-cecb8db4fe66",
   "metadata": {},
   "outputs": [
    {
     "name": "stdout",
     "output_type": "stream",
     "text": [
      "tensor([19, 12, 15, 12, 17,  4,  3, 11, 10,  9])\n",
      "tensor([19, 15, 17,  3, 10])\n"
     ]
    }
   ],
   "source": [
    "vector_data=torch.randint(1,21,(10,))\n",
    "print(vector_data)\n",
    "# print(vector_data[2:6])\n",
    "# print(vector_data[:6])\n",
    "# print(vector_data[2:])\n",
    "# print(vector_data[:])\n",
    "# print(vector_data[:-1])\n",
    "print(vector_data[: :2])"
   ]
  },
  {
   "cell_type": "code",
   "execution_count": 40,
   "id": "ac731f29-bbe7-4812-93d7-0c5199ebd82e",
   "metadata": {},
   "outputs": [
    {
     "name": "stdout",
     "output_type": "stream",
     "text": [
      "tensor([[[10,  3,  1,  5, 19,  6,  6,  6],\n",
      "         [ 4, 17, 13,  1, 20,  1,  4, 14],\n",
      "         [ 3, 13,  1, 18, 11,  8,  3, 18],\n",
      "         [14,  3, 12,  4, 13,  8, 15,  2],\n",
      "         [13,  9,  6,  8, 14,  4,  6,  7]],\n",
      "\n",
      "        [[20,  3, 13, 10, 13,  5, 13,  1],\n",
      "         [ 6, 13, 18, 10,  7, 12, 20, 18],\n",
      "         [15, 14, 10, 18, 11, 12,  7,  1],\n",
      "         [15, 15,  3, 19, 16,  1,  4,  8],\n",
      "         [ 3, 10, 10, 16,  4, 19,  4,  3]],\n",
      "\n",
      "        [[18, 10,  9,  2, 20, 18, 15,  2],\n",
      "         [ 1,  6, 15, 19, 20, 14,  3, 13],\n",
      "         [ 8, 13, 18, 14, 14, 16,  3, 12],\n",
      "         [13,  8, 13, 20, 19, 13, 14, 14],\n",
      "         [16, 14,  1,  6, 15, 15, 16,  5]]])\n",
      "====================================================================================================\n",
      "tensor([13, 18, 15])\n"
     ]
    }
   ],
   "source": [
    "# mat_data=torch.randint(1,21,(7,8))\n",
    "# print(mat_data)\n",
    "# # print(mat_data[2:5,1:3])\n",
    "# # print(\"\\n\")\n",
    "# # print(mat_data[ : ,1:3])\n",
    "# # print(\"\\n\")\n",
    "# print(mat_data[2:5, : ])\n",
    "# print(\"\\n\")\n",
    "# print(mat_data[ :5,4: ])\n",
    "# print(\"\\n\")\n",
    "# print(mat_data[ : , : ])\n",
    "# print(\"\\n\")\n",
    "mat_data=torch.randint(1,21,(3,5,8))\n",
    "print(mat_data)\n",
    "print(100*\"=\")\n",
    "# print(mat_data[1:2, :4,2: ])\n",
    "# print(\"\\n\")\n",
    "# print(mat_data[2])\n",
    "# print(\"\\n\")\n",
    "# print(mat_data[...])\n",
    "# print(\"\\n\")\n",
    "# print(mat_data[...,2])\n",
    "# print(\"\\n\")\n",
    "print(mat_data[...,1,2])"
   ]
  },
  {
   "cell_type": "code",
   "execution_count": null,
   "id": "1e813682-ca6f-468f-b9f1-01eed8e40f69",
   "metadata": {},
   "outputs": [],
   "source": []
  }
 ],
 "metadata": {
  "kernelspec": {
   "display_name": "Python 3 (ipykernel)",
   "language": "python",
   "name": "python3"
  },
  "language_info": {
   "codemirror_mode": {
    "name": "ipython",
    "version": 3
   },
   "file_extension": ".py",
   "mimetype": "text/x-python",
   "name": "python",
   "nbconvert_exporter": "python",
   "pygments_lexer": "ipython3",
   "version": "3.11.4"
  }
 },
 "nbformat": 4,
 "nbformat_minor": 5
}
