{
 "cells": [
  {
   "cell_type": "code",
   "execution_count": 4,
   "id": "88c6de9c",
   "metadata": {},
   "outputs": [],
   "source": [
    "import torch"
   ]
  },
  {
   "cell_type": "code",
   "execution_count": 3,
   "id": "3b3b76f3",
   "metadata": {},
   "outputs": [
    {
     "name": "stdout",
     "output_type": "stream",
     "text": [
      "tensor([12, 21, 45, 85])\n",
      "torch.int64\n"
     ]
    }
   ],
   "source": [
    "data1 = torch.tensor([12, 21, 45, 85])\n",
    "print(data1)\n",
    "print(data1.dtype)"
   ]
  },
  {
   "cell_type": "code",
   "execution_count": 4,
   "id": "1fb7826d",
   "metadata": {},
   "outputs": [
    {
     "name": "stdout",
     "output_type": "stream",
     "text": [
      "tensor([12., 21., 45., 85.])\n",
      "torch.float32\n"
     ]
    }
   ],
   "source": [
    "data1 = data1.float()\n",
    "print(data1)\n",
    "print(data1.dtype)"
   ]
  },
  {
   "cell_type": "code",
   "execution_count": 8,
   "id": "2464aef7",
   "metadata": {},
   "outputs": [
    {
     "name": "stdout",
     "output_type": "stream",
     "text": [
      "tensor([12., 21., 45., 85.], dtype=torch.float16)\n",
      "torch.float16\n"
     ]
    }
   ],
   "source": [
    "data1 = data1.type(torch.float16)\n",
    "print(data1)\n",
    "print(data1.dtype)"
   ]
  },
  {
   "cell_type": "code",
   "execution_count": 10,
   "id": "49bac1cf",
   "metadata": {},
   "outputs": [],
   "source": [
    "data2 = torch.tensor([\n",
    "    [12, 21, 65, 3, 9, 8, 12],\n",
    "    [45, 85, 54, -1, -1, 5, 12]\n",
    "])"
   ]
  },
  {
   "cell_type": "code",
   "execution_count": 12,
   "id": "ff81447f",
   "metadata": {},
   "outputs": [
    {
     "name": "stdout",
     "output_type": "stream",
     "text": [
      " data : tensor([[12, 21, 65,  3,  9,  8, 12],\n",
      "        [45, 85, 54, -1, -1,  5, 12]])\n",
      "====================================================================================================\n",
      "data float : tensor([[12., 21., 65.,  3.,  9.,  8., 12.],\n",
      "        [45., 85., 54., -1., -1.,  5., 12.]])\n",
      "====================================================================================================\n",
      "Min : -1\n",
      "====================================================================================================\n",
      "Max : 85\n",
      "====================================================================================================\n",
      "sum : 329\n",
      "====================================================================================================\n",
      "Mode : torch.return_types.mode(\n",
      "values=tensor([12., -1.]),\n",
      "indices=tensor([6, 4]))\n",
      "====================================================================================================\n",
      "Median : 12.0\n",
      "====================================================================================================\n",
      "Mean : 23.5\n",
      "====================================================================================================\n",
      "Var :747.1923217773438\n",
      "====================================================================================================\n",
      "Std : 27.33481788635254\n",
      "====================================================================================================\n",
      "Abs : tensor([[12, 21, 65,  3,  9,  8, 12],\n",
      "        [45, 85, 54,  1,  1,  5, 12]])\n",
      "====================================================================================================\n",
      "Transpose : tensor([[12, 45],\n",
      "        [21, 85],\n",
      "        [65, 54],\n",
      "        [ 3, -1],\n",
      "        [ 9, -1],\n",
      "        [ 8,  5],\n",
      "        [12, 12]])\n"
     ]
    }
   ],
   "source": [
    "print(f\" data : {data2}\")\n",
    "print(100*\"=\")\n",
    "print(f\"data float : {data2.float()}\" )\n",
    "print(100*\"=\")\n",
    "print(f\"Min : {data2.min()}\")\n",
    "print(100*\"=\")\n",
    "print(f\"Max : {data2.max()}\")\n",
    "print(100*\"=\")\n",
    "print(f\"sum : {data2.sum()}\")\n",
    "print(100*\"=\")\n",
    "print(f\"Mode : {data2.float().mode()}\")\n",
    "print(100*\"=\")\n",
    "print(f\"Median : {data2.float().median()}\")\n",
    "print(100*\"=\")      \n",
    "print(f\"Mean : {data2.float().mean()}\")\n",
    "print(100*\"=\")\n",
    "print(f\"Var :{data2.float().var()}\")\n",
    "print(100*\"=\")\n",
    "print(f\"Std : {data2.float().std()}\")\n",
    "print(100*\"=\")\n",
    "print(f\"Abs : {data2.abs()}\")\n",
    "print(100*\"=\")\n",
    "print(f\"Transpose : {data2.t()}\")"
   ]
  },
  {
   "cell_type": "code",
   "execution_count": 14,
   "id": "c33b4f53",
   "metadata": {},
   "outputs": [
    {
     "name": "stdout",
     "output_type": "stream",
     "text": [
      " data :\t tensor([ 12.3660,  56.1230, -23.1360,   2.4560,   9.7890,   5.6450])\n",
      "====================================================================================================\n",
      "ceil :\t tensor([ 13.,  57., -23.,   3.,  10.,   6.])\n",
      "====================================================================================================\n",
      "Fix :\ttensor([ 12.,  56., -23.,   2.,   9.,   5.])\n",
      "====================================================================================================\n",
      "Floor : \ttensor([ 12.,  56., -24.,   2.,   9.,   5.])\n",
      "====================================================================================================\n",
      "Round : \ttensor([ 12.,  56., -23.,   2.,  10.,   6.])\n"
     ]
    }
   ],
   "source": [
    "data3 = torch.tensor([12.366, 56.123, -23.136,2.456, 9.789, 5.645])\n",
    "print(f\" data :\\t {data3}\")\n",
    "print(100*\"=\")\n",
    "print(f\"ceil :\\t {data3.ceil()}\")\n",
    "print(100*\"=\")\n",
    "print(f\"Fix :\\t{data3.fix()}\")\n",
    "print(100*\"=\")\n",
    "print(f\"Floor : \\t{data3.floor()}\")\n",
    "print(100*\"=\")\n",
    "print(f\"Round : \\t{data3.round()}\")"
   ]
  },
  {
   "cell_type": "code",
   "execution_count": 16,
   "id": "04a01901",
   "metadata": {},
   "outputs": [
    {
     "name": "stdout",
     "output_type": "stream",
     "text": [
      "argmin : 1\n",
      "====================================================================================================\n",
      "argmax : 2\n",
      "====================================================================================================\n",
      "topk : torch.return_types.topk(\n",
      "values=tensor([36., 20., 18.]),\n",
      "indices=tensor([2, 8, 7]))\n",
      "====================================================================================================\n",
      "euclidean norm (norm L2) : 51.855567932128906\n",
      "====================================================================================================\n",
      "remeinder of division(mod) : tensor([5., 2., 1., 6., 1., 0., 1., 4., 6.])\n",
      "====================================================================================================\n"
     ]
    }
   ],
   "source": [
    "data4 = torch.tensor([12., 2., 36., 6., 8., 14., 15., 18., 20.])\n",
    "print(f\"argmin : {torch.argmin(data4)}\")\n",
    "print(100*\"=\")\n",
    "print(f\"argmax : {torch.argmax(data4)}\")\n",
    "print(100*\"=\")\n",
    "print(f\"topk : {torch.topk(data4, 3)}\")\n",
    "print(100*\"=\")\n",
    "print(f\"euclidean norm (norm L2) : {torch.norm(data4, p=2)}\")\n",
    "print(100*\"=\")\n",
    "print(f\"remeinder of division(mod) : {torch.remainder(data4,7)}\")\n",
    "print(100*\"=\")"
   ]
  },
  {
   "cell_type": "code",
   "execution_count": 18,
   "id": "ebde6608",
   "metadata": {},
   "outputs": [
    {
     "name": "stdout",
     "output_type": "stream",
     "text": [
      "tensor(38)\n",
      "tensor([ 2,  5, 10, 14, 22, 29, 38])\n",
      "tensor(60480)\n",
      "tensor([    2,     6,    30,   120,   960,  6720, 60480])\n",
      "tensor([ 1,  2, -1,  4, -1,  2])\n"
     ]
    }
   ],
   "source": [
    "data5 = torch.tensor([2, 3, 5, 4, 8, 7, 9])\n",
    "print(torch.sum(data5, 0))\n",
    "print(torch.cumsum(data5, 0))\n",
    "print(torch.prod(data5, 0))\n",
    "print(torch.cumprod(data5, 0))\n",
    "print(torch.diff(data5))\n",
    "\n",
    "\n",
    "\n"
   ]
  },
  {
   "cell_type": "code",
   "execution_count": 20,
   "id": "c889bcdd",
   "metadata": {},
   "outputs": [
    {
     "name": "stdout",
     "output_type": "stream",
     "text": [
      "====================================================================================================\n",
      "tensor([38, 43])\n",
      "tensor([[ 2,  5, 10, 14, 22, 29, 38],\n",
      "        [ 4,  9, 18, 25, 36, 41, 43]])\n",
      "tensor([ 60480, 138600])\n",
      "tensor([[     2,      6,     30,    120,    960,   6720,  60480],\n",
      "        [     4,     20,    180,   1260,  13860,  69300, 138600]])\n"
     ]
    }
   ],
   "source": [
    "data6 = torch.tensor([[2, 3, 5, 4, 8, 7, 9],[4, 5, 9, 7, 11, 5, 2]])\n",
    "print(100*\"=\")\n",
    "print(torch.sum(data6, 1))\n",
    "print(torch.cumsum(data6, 1))\n",
    "print(torch.prod(data6, 1))\n",
    "print(torch.cumprod(data6, 1))\n",
    "\n"
   ]
  },
  {
   "cell_type": "code",
   "execution_count": 22,
   "id": "6f469bda",
   "metadata": {},
   "outputs": [
    {
     "name": "stdout",
     "output_type": "stream",
     "text": [
      "Data2 : tensor([ 4,  9, 25, 16, 64, 49, 81])\n",
      "Data3 : tensor([2., 3., 5., 4., 8., 7., 9.])\n"
     ]
    }
   ],
   "source": [
    "data1 = torch.tensor([2, 3, 5, 4, 8, 7, 9])\n",
    "data2 = data1.square()\n",
    "data3 = data2.sqrt()\n",
    "print(f\"Data2 : {data2}\")\n",
    "print(f\"Data3 : {data3}\")"
   ]
  },
  {
   "cell_type": "code",
   "execution_count": 24,
   "id": "142681ec",
   "metadata": {},
   "outputs": [
    {
     "name": "stdout",
     "output_type": "stream",
     "text": [
      "Data : tensor([ 12.3660,  56.1230, -23.1360,   2.4560,   9.7890,   5.6450])\n",
      "ciel_  : tensor([ 13.,  57., -23.,   3.,  10.,   6.])\n",
      "Data : tensor([ 12.3660,  56.1230, -23.1360,   2.4560,   9.7890,   5.6450])\n",
      "ciel_  : tensor([ 13.,  57., -23.,   3.,  10.,   6.])\n",
      "Data : tensor([ 13.,  57., -23.,   3.,  10.,   6.])\n"
     ]
    }
   ],
   "source": [
    "data1 = torch.tensor([12.366, 56.123, -23.136,2.456, 9.789, 5.645])\n",
    "print(f\"Data : {data1}\")\n",
    "print(f\"ciel_  : {data1.ceil()}\")\n",
    "print(f\"Data : {data1}\")\n",
    "print(f\"ciel_  : {data1.ceil_()}\")\n",
    "print(f\"Data : {data1}\")"
   ]
  },
  {
   "cell_type": "code",
   "execution_count": 26,
   "id": "3f3cc61d",
   "metadata": {},
   "outputs": [
    {
     "data": {
      "text/plain": [
       "tensor(92.7470)"
      ]
     },
     "execution_count": 26,
     "metadata": {},
     "output_type": "execute_result"
    }
   ],
   "source": [
    "data1 = torch.tensor([2, 3, 5, 4, 8, 7, 9])\n",
    "data2 = torch.tensor([12, 21, 45, 85, 4, 7, 8])\n",
    "torch.dist(data1.float(), data2.float(), p=2) # فاصله اقلیدسی"
   ]
  },
  {
   "cell_type": "markdown",
   "id": "ae302598",
   "metadata": {},
   "source": [
    "# Creat Tensor With Specific Values"
   ]
  },
  {
   "cell_type": "code",
   "execution_count": 38,
   "id": "7d73559d",
   "metadata": {},
   "outputs": [
    {
     "name": "stdout",
     "output_type": "stream",
     "text": [
      " vector data ones : \n",
      "tensor([ 1.,  3.,  5.,  7.,  9., 11., 13., 15., 17., 19.])\n",
      "\n",
      "tensor([ 1.,  3.,  5.,  7.,  9., 11., 13., 15., 17., 19.])\n"
     ]
    },
    {
     "name": "stderr",
     "output_type": "stream",
     "text": [
      "C:\\Users\\User\\AppData\\Local\\Temp\\ipykernel_6636\\898075102.py:2: UserWarning: torch.range is deprecated and will be removed in a future release because its behavior is inconsistent with Python's range builtin. Instead, use torch.arange, which produces values in [start, end).\n",
      "  vdata = torch.range(1,20,2)\n"
     ]
    }
   ],
   "source": [
    "data1 = torch.range(1,20,2)  #ابتدا و  انتها و گام\n",
    "vdata = torch.range(1,20,2)\n",
    "print(f\" vector data ones : \\n{vdata}\\n\")\n",
    "print(data1)"
   ]
  },
  {
   "cell_type": "code",
   "execution_count": 12,
   "id": "b1762187",
   "metadata": {},
   "outputs": [
    {
     "name": "stdout",
     "output_type": "stream",
     "text": [
      "data_ones : \n",
      "tensor([[1., 1., 1., 1., 1.],\n",
      "        [1., 1., 1., 1., 1.],\n",
      "        [1., 1., 1., 1., 1.]])\n",
      "\n",
      "data_zeros : \n",
      "tensor([[0., 0., 0., 0., 0.],\n",
      "        [0., 0., 0., 0., 0.],\n",
      "        [0., 0., 0., 0., 0.]])\n",
      "\n",
      "data_empty : \n",
      "tensor([[-1.5737e+06,  1.0356e-42,  0.0000e+00,  0.0000e+00,  0.0000e+00],\n",
      "        [ 0.0000e+00,  0.0000e+00,  0.0000e+00,  0.0000e+00,  0.0000e+00],\n",
      "        [ 0.0000e+00,  0.0000e+00,  0.0000e+00,  0.0000e+00,  0.0000e+00]])\n",
      "\n",
      "data_eye : \n",
      "tensor([[1., 0., 0., 0., 0.],\n",
      "        [0., 1., 0., 0., 0.],\n",
      "        [0., 0., 1., 0., 0.],\n",
      "        [0., 0., 0., 1., 0.],\n",
      "        [0., 0., 0., 0., 1.]])\n",
      "\n"
     ]
    }
   ],
   "source": [
    "shape = (3,5)\n",
    "data_ones = torch.ones(shape)\n",
    "data_zeros = torch.zeros(shape)\n",
    "data_empty = torch.empty(shape)\n",
    "data_eye = torch.eye(5)\n",
    "print(f\"data_ones : \\n{data_ones}\\n\")\n",
    "print(f\"data_zeros : \\n{data_zeros}\\n\")\n",
    "print(f\"data_empty : \\n{data_empty}\\n\")\n",
    "print(f\"data_eye : \\n{data_eye}\\n\")"
   ]
  },
  {
   "cell_type": "markdown",
   "id": "17452309",
   "metadata": {},
   "source": [
    "# Creat Tensor With Random Values"
   ]
  },
  {
   "cell_type": "code",
   "execution_count": 52,
   "id": "a2d0008a",
   "metadata": {},
   "outputs": [
    {
     "name": "stdout",
     "output_type": "stream",
     "text": [
      "data_rand1 : \n",
      "tensor([0.8823, 0.9150, 0.3829, 0.9593, 0.3904, 0.6009, 0.2566, 0.7936, 0.9408,\n",
      "        0.1332])\n",
      "\n"
     ]
    },
    {
     "data": {
      "text/plain": [
       "(array([1., 0., 0., 0., 0., 0., 0., 0., 0., 0., 0., 0., 0., 0., 1., 0., 0.,\n",
       "        0., 0., 0., 0., 0., 0., 0., 0., 0., 0., 0., 0., 0., 1., 1., 0., 0.,\n",
       "        0., 0., 0., 0., 0., 0., 0., 0., 0., 0., 0., 0., 0., 0., 0., 0., 0.,\n",
       "        0., 0., 0., 0., 0., 1., 0., 0., 0., 0., 0., 0., 0., 0., 0., 0., 0.,\n",
       "        0., 0., 0., 0., 0., 0., 0., 0., 0., 0., 0., 1., 0., 0., 0., 0., 0.,\n",
       "        0., 0., 0., 0., 0., 1., 0., 0., 0., 1., 0., 0., 1., 0., 1.]),\n",
       " array([0.13318592, 0.14144713, 0.14970832, 0.15796952, 0.16623071,\n",
       "        0.17449191, 0.1827531 , 0.1910143 , 0.19927549, 0.2075367 ,\n",
       "        0.2157979 , 0.22405909, 0.23232029, 0.24058148, 0.24884269,\n",
       "        0.25710389, 0.26536506, 0.27362627, 0.28188747, 0.29014868,\n",
       "        0.29840988, 0.30667105, 0.31493226, 0.32319346, 0.33145466,\n",
       "        0.33971584, 0.34797704, 0.35623825, 0.36449945, 0.37276065,\n",
       "        0.38102183, 0.38928303, 0.39754423, 0.40580544, 0.41406664,\n",
       "        0.42232782, 0.43058902, 0.43885022, 0.44711143, 0.4553726 ,\n",
       "        0.46363381, 0.47189501, 0.48015621, 0.48841742, 0.49667859,\n",
       "        0.50493979, 0.513201  , 0.5214622 , 0.52972341, 0.53798461,\n",
       "        0.54624581, 0.55450696, 0.56276816, 0.57102937, 0.57929057,\n",
       "        0.58755177, 0.59581298, 0.60407418, 0.61233538, 0.62059659,\n",
       "        0.62885773, 0.63711894, 0.64538014, 0.65364134, 0.66190255,\n",
       "        0.67016375, 0.67842495, 0.68668616, 0.69494736, 0.70320851,\n",
       "        0.71146971, 0.71973091, 0.72799212, 0.73625332, 0.74451452,\n",
       "        0.75277573, 0.76103693, 0.76929814, 0.77755928, 0.78582048,\n",
       "        0.79408169, 0.80234289, 0.8106041 , 0.8188653 , 0.8271265 ,\n",
       "        0.83538771, 0.84364891, 0.85191005, 0.86017126, 0.86843246,\n",
       "        0.87669367, 0.88495487, 0.89321607, 0.90147728, 0.90973848,\n",
       "        0.91799968, 0.92626083, 0.93452203, 0.94278324, 0.95104444,\n",
       "        0.95930564]),\n",
       " <BarContainer object of 100 artists>)"
      ]
     },
     "execution_count": 52,
     "metadata": {},
     "output_type": "execute_result"
    },
    {
     "data": {
      "image/png": "[encoded data removed]",
      "text/plain": [
       "<Figure size 640x480 with 1 Axes>"
      ]
     },
     "metadata": {},
     "output_type": "display_data"
    }
   ],
   "source": [
    "import matplotlib.pyplot as plt\n",
    "torch.manual_seed(42)\n",
    "data_rand1 = torch.rand(10)\n",
    "print(f\"data_rand1 : \\n{data_rand1}\\n\")\n",
    "plt.hist(data_rand1, 100)"
   ]
  },
  {
   "cell_type": "code",
   "execution_count": 54,
   "id": "5041175c",
   "metadata": {},
   "outputs": [
    {
     "name": "stdout",
     "output_type": "stream",
     "text": [
      "data_rand2 : \n",
      "tensor([0.9346, 0.5936, 0.8694, 0.5677, 0.7411, 0.4294, 0.8854, 0.5739, 0.2666,\n",
      "        0.6274, 0.2696, 0.4414, 0.2969, 0.8317, 0.1053, 0.2695, 0.3588, 0.1994,\n",
      "        0.5472, 0.0062, 0.9516, 0.0753, 0.8860, 0.5832, 0.3376, 0.8090, 0.5779,\n",
      "        0.9040, 0.5547, 0.3423, 0.6343, 0.3644, 0.7104, 0.9464, 0.7890, 0.2814,\n",
      "        0.7886, 0.5895, 0.7539, 0.1952, 0.0050, 0.3068, 0.1165, 0.9103, 0.6440,\n",
      "        0.7071, 0.6581, 0.4913, 0.8913, 0.1447, 0.5315, 0.1587, 0.6542, 0.3278,\n",
      "        0.6532, 0.3958, 0.9147, 0.2036, 0.2018, 0.2018, 0.9497, 0.6666, 0.9811,\n",
      "        0.0874, 0.0041, 0.1088, 0.1637, 0.7025, 0.6790, 0.9155, 0.2418, 0.1591,\n",
      "        0.7653, 0.2979, 0.8035, 0.3813, 0.7860, 0.1115, 0.2477, 0.6524, 0.6057,\n",
      "        0.3725, 0.7980, 0.8399, 0.1374, 0.2331, 0.9578, 0.3313, 0.3227, 0.0162,\n",
      "        0.2137, 0.6249, 0.4340, 0.1371, 0.5117, 0.1585, 0.0758, 0.2247, 0.0624,\n",
      "        0.1816, 0.9998, 0.5944, 0.6541, 0.0337, 0.1716, 0.3336, 0.5782, 0.0600,\n",
      "        0.2846, 0.2007, 0.5014, 0.3139, 0.4654, 0.1612, 0.1568, 0.2083, 0.3289,\n",
      "        0.1054, 0.9192, 0.4008, 0.9302, 0.6558, 0.0766, 0.8460, 0.3624, 0.3083,\n",
      "        0.0850, 0.0029, 0.6431, 0.3908, 0.6947, 0.0897, 0.8712, 0.1330, 0.4137,\n",
      "        0.6044, 0.7581, 0.9037, 0.9555, 0.1035, 0.6258, 0.2849, 0.4452, 0.1258,\n",
      "        0.9554, 0.1330, 0.7672, 0.6757, 0.6625, 0.2297, 0.9545, 0.6099, 0.5643,\n",
      "        0.0594, 0.7099, 0.4250, 0.2709, 0.9295, 0.6115, 0.2234, 0.2469, 0.4761,\n",
      "        0.7792, 0.3722, 0.2147, 0.3288, 0.1265, 0.6783, 0.8870, 0.0293, 0.6161,\n",
      "        0.7583, 0.5907, 0.3219, 0.7610, 0.7628, 0.6870, 0.4121, 0.3676, 0.5535,\n",
      "        0.4117, 0.3510, 0.8196, 0.9297, 0.4505, 0.3881, 0.5073, 0.4701, 0.6202,\n",
      "        0.6401, 0.0459, 0.3155, 0.9211, 0.6948, 0.4751, 0.1985, 0.1941, 0.0521,\n",
      "        0.3370, 0.6689, 0.8188, 0.7308, 0.0580, 0.1993, 0.4211, 0.9837, 0.5723,\n",
      "        0.3705, 0.7069, 0.3096, 0.1764, 0.8649, 0.2726, 0.3998, 0.0026, 0.8346,\n",
      "        0.8788, 0.6822, 0.1514, 0.0065, 0.0939, 0.8729, 0.7401, 0.9208, 0.7619,\n",
      "        0.6265, 0.4951, 0.1197, 0.0716, 0.0323, 0.7047, 0.2545, 0.3994, 0.2122,\n",
      "        0.4089, 0.1481, 0.1733, 0.6659, 0.3514, 0.8087, 0.3396, 0.1332, 0.4118,\n",
      "        0.2576, 0.3470, 0.0240, 0.7797, 0.1519, 0.7513, 0.7269, 0.8572, 0.1165,\n",
      "        0.8596, 0.2636, 0.6855, 0.9696, 0.4295, 0.4961, 0.3849, 0.0825, 0.7400,\n",
      "        0.0036, 0.8104, 0.8741, 0.9729, 0.3821, 0.0892, 0.6124, 0.7762, 0.0023,\n",
      "        0.3865, 0.2003, 0.4563, 0.2539, 0.2956, 0.3413, 0.0248, 0.9103, 0.9192,\n",
      "        0.4216, 0.4431, 0.2959, 0.0485, 0.0134, 0.6858, 0.2255, 0.1786, 0.4610,\n",
      "        0.3335, 0.3382, 0.5161, 0.3939, 0.3278, 0.2606, 0.0931, 0.9193, 0.2999,\n",
      "        0.6325, 0.3265, 0.5406, 0.9662, 0.7304, 0.0667, 0.6985, 0.9746, 0.6315,\n",
      "        0.8352, 0.9929, 0.4234, 0.6038, 0.1525, 0.3970, 0.8703, 0.7563, 0.1836,\n",
      "        0.0991, 0.1583, 0.0066, 0.1142, 0.3764, 0.8374, 0.5837, 0.1197, 0.0989,\n",
      "        0.7487, 0.1281, 0.4384, 0.7399, 0.2686, 0.4455, 0.4565, 0.3817, 0.2465,\n",
      "        0.0543, 0.0958, 0.2323, 0.9829, 0.2585, 0.1642, 0.6212, 0.6378, 0.7740,\n",
      "        0.8801, 0.7784, 0.0042, 0.5443, 0.8029, 0.4538, 0.2054, 0.9767, 0.3130,\n",
      "        0.2153, 0.0492, 0.5223, 0.7216, 0.6107, 0.5989, 0.1208, 0.0331, 0.5088,\n",
      "        0.9559, 0.7885, 0.2089, 0.4351, 0.1314, 0.2588, 0.5905, 0.7723, 0.9142,\n",
      "        0.0409, 0.8343, 0.1474, 0.6872, 0.9231, 0.5070, 0.9549, 0.0740, 0.3090,\n",
      "        0.7916, 0.3911, 0.3976, 0.2916, 0.8447, 0.7453, 0.6602, 0.2190, 0.0941,\n",
      "        0.5541, 0.6481, 0.2691, 0.3601, 0.8377, 0.5398, 0.5226, 0.3769, 0.0472,\n",
      "        0.0299, 0.2610, 0.2458, 0.6558, 0.3544, 0.3044, 0.9767, 0.6742, 0.8565,\n",
      "        0.2579, 0.2958, 0.6838, 0.1669, 0.1731, 0.4759, 0.3171, 0.1252, 0.7966,\n",
      "        0.9021, 0.5811, 0.4129, 0.0369, 0.3179, 0.6273, 0.7358, 0.4368, 0.3023,\n",
      "        0.7786, 0.1018, 0.8160, 0.3060, 0.5077, 0.4012, 0.5606, 0.3489, 0.8636,\n",
      "        0.4870, 0.8903, 0.9807, 0.2564, 0.1352, 0.9012, 0.8918, 0.1182, 0.4613,\n",
      "        0.0069, 0.0907, 0.5966, 0.6330, 0.6060, 0.3639, 0.9613, 0.5715, 0.2050,\n",
      "        0.4717, 0.6201, 0.6751, 0.1465, 0.6874, 0.2446, 0.0845, 0.2269, 0.9822,\n",
      "        0.9274, 0.9477, 0.7935, 0.8777, 0.4331, 0.2249, 0.7498, 0.2409, 0.1626,\n",
      "        0.3403, 0.6049, 0.7574, 0.3058, 0.2057, 0.5674, 0.2053, 0.1745, 0.7606,\n",
      "        0.4160, 0.9569, 0.9864, 0.6496, 0.6721, 0.6151, 0.5078, 0.4636, 0.5069,\n",
      "        0.6867, 0.9649, 0.3704, 0.2886, 0.3789, 0.2584, 0.5850, 0.8732, 0.8910,\n",
      "        0.7296, 0.1320, 0.2316, 0.3901, 0.4078, 0.5411, 0.0410, 0.6556, 0.1186,\n",
      "        0.1836, 0.0843, 0.9357, 0.0265, 0.8772, 0.4832, 0.4419, 0.8127, 0.4538,\n",
      "        0.8136, 0.8615, 0.0659, 0.6924, 0.5944, 0.6075, 0.5730, 0.6368, 0.2595,\n",
      "        0.4360, 0.9751, 0.8359, 0.4812, 0.0297, 0.5219, 0.1595, 0.9066, 0.1965,\n",
      "        0.4639, 0.3890, 0.5890, 0.9705, 0.5475, 0.7896, 0.8881, 0.9037, 0.3273,\n",
      "        0.3882, 0.7410, 0.3636, 0.7341, 0.3908, 0.1609, 0.7035, 0.5767, 0.7229,\n",
      "        0.9967, 0.8414, 0.9740, 0.5268, 0.0699, 0.1492, 0.1894, 0.0594, 0.2494,\n",
      "        0.0397, 0.0387, 0.2012, 0.0071, 0.1931, 0.6907, 0.9170, 0.3513, 0.3546,\n",
      "        0.7670, 0.2533, 0.2636, 0.8081, 0.0643, 0.5611, 0.9417, 0.5857, 0.6360,\n",
      "        0.2088, 0.4931, 0.5275, 0.6227, 0.6943, 0.9345, 0.1184, 0.5150, 0.2502,\n",
      "        0.1045, 0.4600, 0.0599, 0.8489, 0.5579, 0.2305, 0.7613, 0.0268, 0.3066,\n",
      "        0.4026, 0.0751, 0.1821, 0.4184, 0.8794, 0.9828, 0.8181, 0.2014, 0.1729,\n",
      "        0.9363, 0.6769, 0.5133, 0.5677, 0.0982, 0.3331, 0.9813, 0.3767, 0.4749,\n",
      "        0.0848, 0.2203, 0.4898, 0.1894, 0.4380, 0.7035, 0.0109, 0.6485, 0.1694,\n",
      "        0.2560, 0.6920, 0.8976, 0.3633, 0.2947, 0.0479, 0.2422, 0.0622, 0.3856,\n",
      "        0.6020, 0.0316, 0.9366, 0.8137, 0.0105, 0.2612, 0.6631, 0.3973, 0.4455,\n",
      "        0.2742, 0.9016, 0.2205, 0.9146, 0.5323, 0.6005, 0.8901, 0.4176, 0.2153,\n",
      "        0.4191, 0.9055, 0.1290, 0.6135, 0.0086, 0.7622, 0.6847, 0.5212, 0.7146,\n",
      "        0.5006, 0.7767, 0.1042, 0.4266, 0.7218, 0.9979, 0.7547, 0.1364, 0.8845,\n",
      "        0.3885, 0.3932, 0.0455, 0.4213, 0.8537, 0.5697, 0.2088, 0.6539, 0.3397,\n",
      "        0.9565, 0.0660, 0.3421, 0.0172, 0.3031, 0.6576, 0.9813, 0.5840, 0.9902,\n",
      "        0.5978, 0.7888, 0.9008, 0.9180, 0.2201, 0.9597, 0.8029, 0.2662, 0.2614,\n",
      "        0.0806, 0.6256, 0.0947, 0.7112, 0.6579, 0.0656, 0.6363, 0.4593, 0.7284,\n",
      "        0.7869, 0.0029, 0.9585, 0.9193, 0.6989, 0.0430, 0.3214, 0.3551, 0.3715,\n",
      "        0.7820, 0.6818, 0.8961, 0.3127, 0.6683, 0.6779, 0.0837, 0.0150, 0.2406,\n",
      "        0.8423, 0.0293, 0.0648, 0.7801, 0.7698, 0.9112, 0.1225, 0.1341, 0.7565,\n",
      "        0.9348, 0.7992, 0.5783, 0.6648, 0.9746, 0.1774, 0.2730, 0.8497, 0.1579,\n",
      "        0.2243, 0.8650, 0.6578, 0.6615, 0.2881, 0.4931, 0.9576, 0.1999, 0.5039,\n",
      "        0.7378, 0.1548, 0.9856, 0.2502, 0.3799, 0.3647, 0.1742, 0.0094, 0.7819,\n",
      "        0.6328, 0.0317, 0.1782, 0.9942, 0.6911, 0.7006, 0.2009, 0.2808, 0.4245,\n",
      "        0.4086, 0.1574, 0.5412, 0.5497, 0.4367, 0.5693, 0.3018, 0.6301, 0.6886,\n",
      "        0.2366, 0.0042, 0.7617, 0.6193, 0.2457, 0.9819, 0.2739, 0.8379, 0.7537,\n",
      "        0.0808, 0.8225, 0.0403, 0.2230, 0.4166, 0.1630, 0.9885, 0.3997, 0.6986,\n",
      "        0.0535, 0.7878, 0.3446, 0.1197, 0.5731, 0.7422, 0.9327, 0.1946, 0.2539,\n",
      "        0.5961, 0.6356, 0.6922, 0.7744, 0.3866, 0.7778, 0.8686, 0.3694, 0.8557,\n",
      "        0.7443, 0.9410, 0.2159, 0.2531, 0.3554, 0.5254, 0.8001, 0.2146, 0.7503,\n",
      "        0.3208, 0.8021, 0.4763, 0.0620, 0.2249, 0.1381, 0.7480, 0.1647, 0.4583,\n",
      "        0.6079, 0.2258, 0.6442, 0.0118, 0.1422, 0.0469, 0.3488, 0.3179, 0.5716,\n",
      "        0.4075, 0.7350, 0.9584, 0.6794, 0.3030, 0.0318, 0.6811, 0.2523, 0.7544,\n",
      "        0.8342, 0.6929, 0.9692, 0.9749, 0.6059, 0.1357, 0.9467, 0.2628, 0.2638,\n",
      "        0.9184, 0.8874, 0.6511, 0.5313, 0.0794, 0.4481, 0.9796, 0.6273, 0.5428,\n",
      "        0.3962, 0.3256, 0.7980, 0.5308, 0.8253, 0.4115, 0.7185, 0.7064, 0.5797,\n",
      "        0.8142, 0.8133, 0.9635, 0.8844, 0.3722, 0.0767, 0.5914, 0.4956, 0.3696,\n",
      "        0.4163, 0.5235, 0.8648, 0.6559, 0.3225, 0.2944, 0.3762, 0.3067, 0.9496,\n",
      "        0.7648, 0.9515, 0.5016, 0.6008, 0.6734, 0.0267, 0.5446, 0.4666, 0.2197,\n",
      "        0.1120, 0.9426, 0.9065, 0.7317, 0.9771, 0.2971, 0.4136, 0.6893, 0.4174,\n",
      "        0.4019, 0.0867, 0.6343, 0.1978, 0.5182, 0.9875, 0.3461, 0.3424, 0.8017,\n",
      "        0.3162, 0.4571, 0.9669, 0.2950, 0.1423, 0.2202, 0.3614, 0.2628, 0.2405,\n",
      "        0.7020, 0.5850, 0.3400, 0.1115, 0.3426, 0.2890, 0.3373, 0.0489, 0.6077,\n",
      "        0.1326, 0.1106, 0.0915, 0.7087, 0.1990, 0.2936, 0.8919, 0.7655, 0.7867,\n",
      "        0.0252, 0.1415, 0.3112, 0.9130, 0.5512, 0.1261, 0.5031, 0.1117, 0.3905,\n",
      "        0.3625, 0.9328, 0.6549, 0.4128, 0.5845, 0.3557, 0.6965, 0.6978, 0.6343,\n",
      "        0.3051, 0.9266, 0.4278, 0.3053, 0.8132, 0.9075, 0.9976, 0.6481, 0.3296,\n",
      "        0.7539, 0.9290, 0.0096, 0.4381, 0.1590, 0.5932, 0.7068, 0.3967, 0.4582,\n",
      "        0.7251, 0.4160, 0.0801, 0.9001, 0.2483, 0.4451, 0.5472, 0.4700, 0.0297,\n",
      "        0.7294, 0.2729, 0.2407, 0.6195, 0.2391, 0.2689, 0.3315, 0.3122, 0.2912,\n",
      "        0.3652])\n",
      "\n"
     ]
    }
   ],
   "source": [
    "data_rand2 = torch.rand(1000)\n",
    "print(f\"data_rand2 : \\n{data_rand2}\\n\")"
   ]
  },
  {
   "cell_type": "code",
   "execution_count": 4,
   "id": "38a5524d",
   "metadata": {},
   "outputs": [
    {
     "name": "stdout",
     "output_type": "stream",
     "text": [
      "data_rand3 : \n",
      "tensor([-2.7133e-01,  1.1011e+00,  7.7159e-01, -2.6399e-01,  3.7125e-01,\n",
      "         1.1360e-01, -5.9239e-01,  2.1222e+00, -1.2231e+00, -7.1131e-02,\n",
      "        -3.3457e-01, -1.3387e+00, -1.1229e+00, -1.4955e-01,  6.1955e-01,\n",
      "        -1.3428e+00, -1.3979e+00,  1.4936e+00, -1.1010e+00,  2.1042e-01,\n",
      "        -9.4639e-01,  1.4876e+00,  1.4343e-01,  2.2613e+00, -1.7849e+00,\n",
      "         1.8624e-01, -2.1695e+00,  1.4329e+00,  1.6910e+00,  4.8273e-01,\n",
      "         6.7104e-01, -6.6632e-01,  1.3087e-01,  9.1793e-01,  1.0128e+00,\n",
      "         6.4025e-01, -5.6098e-01, -8.1509e-01, -7.0233e-01,  1.0460e+00,\n",
      "         7.4062e-01, -6.1294e-01, -1.1200e+00, -7.3547e-01, -5.6921e-01,\n",
      "        -8.4346e-01,  6.0962e-02, -1.4946e+00,  2.0410e+00,  1.4737e-01,\n",
      "        -5.4150e-01, -8.3423e-01, -4.4451e-01, -4.1573e-01,  1.4571e+00,\n",
      "         1.2157e+00,  2.6263e-02,  5.9236e-01,  2.6603e-01, -4.2603e-01,\n",
      "        -1.1089e+00, -2.1086e+00, -1.3951e+00, -6.8031e-01, -1.0269e+00,\n",
      "         6.7423e-01, -9.4061e-01, -1.6883e+00, -2.9661e-01, -3.7277e-01,\n",
      "        -1.9087e+00, -1.4710e+00,  1.4541e+00, -7.4102e-01, -1.9696e+00,\n",
      "         3.3367e-01, -6.4350e-01,  2.2781e-01,  1.1728e+00, -2.3920e-01,\n",
      "         4.7560e-01,  7.7378e-01, -9.4307e-01,  1.2942e+00, -1.7267e+00,\n",
      "        -1.1164e+00, -4.2373e-01, -2.9567e-01, -9.5410e-01,  7.0131e-01,\n",
      "        -7.7613e-01,  5.7992e-01,  2.7339e-01,  3.6707e-01,  7.9942e-01,\n",
      "         3.3984e-02, -1.1640e+00,  9.8530e-03, -4.5846e-01, -1.7599e+00,\n",
      "        -1.0000e+00, -8.2867e-01,  8.1589e-01,  1.0020e-01,  1.0059e+00,\n",
      "        -5.0466e-01,  1.7021e+00,  1.1154e-01, -6.1879e-01,  9.6677e-02,\n",
      "        -8.0314e-01,  1.1007e+00, -1.5203e+00, -8.3527e-01, -1.7828e-01,\n",
      "         7.8727e-01, -3.4979e+00,  1.0448e+00,  6.1704e-01,  6.7893e-01,\n",
      "         2.5828e-01,  4.3253e-01,  2.0879e+00,  1.1548e+00,  9.1392e-02,\n",
      "         6.9546e-01, -5.5325e-01, -5.7990e-01,  1.5057e+00,  2.6619e-01,\n",
      "         1.6805e+00,  1.6454e+00,  9.9185e-01,  1.9355e-01,  4.3646e-01,\n",
      "         2.4737e-01,  3.1786e-01,  7.2307e-01,  1.2265e+00, -4.4436e-01,\n",
      "         7.5893e-01, -3.0113e-02, -1.5338e-03, -7.9446e-01,  9.6000e-02,\n",
      "         1.1556e+00,  5.0845e-02,  6.2042e-01,  3.2320e-02,  6.7701e-01,\n",
      "         1.3528e+00, -9.4616e-01, -2.3380e+00,  1.5596e-01, -1.7277e+00,\n",
      "         2.1509e-01,  2.9220e-01,  7.5660e-02, -1.0252e+00, -3.8274e+00,\n",
      "         1.9545e+00,  3.9493e-01,  6.4993e-01,  5.2914e-01, -8.3806e-01,\n",
      "         9.1059e-01, -1.3089e+00, -1.2160e+00, -1.6552e+00, -9.9566e-01,\n",
      "         1.4074e-01,  4.6431e-01,  1.7510e+00, -2.9566e+00,  1.6386e-01,\n",
      "        -7.1901e-01, -1.6009e-01, -8.0729e-02,  1.2594e+00,  2.1443e+00,\n",
      "         1.5911e+00, -1.1244e+00, -2.5956e+00, -1.1855e-01,  7.9958e-02,\n",
      "        -1.6236e+00, -2.1500e-01,  2.8140e-03, -1.3762e-01, -2.2691e-01,\n",
      "         1.1273e+00, -3.7997e-01,  1.9005e+00,  1.0358e-01,  5.7477e-01,\n",
      "         9.4455e-03,  9.2225e-01,  1.0927e+00,  9.7241e-01, -1.7677e+00,\n",
      "        -1.3718e+00,  2.9347e-01,  7.9057e-01, -5.5747e-01, -1.3509e-02,\n",
      "         6.2154e-01,  4.8284e-01, -1.1484e+00, -5.7005e-01, -8.6066e-01,\n",
      "         8.6023e-01,  1.9177e-01,  1.0744e-01, -9.0925e-01,  3.7958e-01,\n",
      "        -2.6096e+00, -3.6397e-01, -6.3908e-01,  1.3815e+00,  1.5698e+00,\n",
      "        -1.1641e+00, -4.8011e-01, -1.2267e+00, -4.9030e-01,  1.2838e+00,\n",
      "        -1.0233e+00,  1.0340e-01,  9.2958e-01, -1.6259e+00,  2.9778e-01,\n",
      "        -1.1047e+00,  5.0470e-01,  6.2692e-01, -7.2961e-01, -2.0507e-01,\n",
      "         1.1241e+00, -1.2656e+00, -1.9633e+00, -2.5105e+00, -1.0016e-01,\n",
      "         1.2649e-01,  1.6445e+00,  7.5846e-01,  5.3564e-01,  7.5056e-01,\n",
      "         4.9412e-01,  4.2347e-01, -5.8377e-01, -5.2016e-01, -8.2486e-02,\n",
      "        -8.0630e-01, -1.6474e-01, -1.9324e+00,  1.8281e+00,  4.3509e-01,\n",
      "         2.5258e-02,  4.4539e-01,  7.1095e-01, -1.2887e+00,  1.1590e-01,\n",
      "         8.1581e-02,  7.6015e-02, -3.8575e-02,  9.3006e-01,  1.0462e+00,\n",
      "        -9.0679e-02,  4.2377e-01, -9.0112e-01, -1.5719e+00, -1.9144e+00,\n",
      "        -1.9197e+00,  7.6508e-01,  7.0226e-01,  2.5818e-01,  3.0411e-01,\n",
      "        -2.9335e-01, -8.3002e-01,  3.5240e-02,  3.3741e-01,  8.4705e-01,\n",
      "        -4.7357e-01, -6.9660e-01,  6.2299e-01, -1.4015e+00,  1.1301e+00,\n",
      "        -1.6901e+00,  8.1113e-01,  9.0752e-01, -3.0132e-01, -1.6640e+00,\n",
      "         2.1613e-01,  1.1403e+00,  1.0546e+00, -1.9536e+00, -2.3502e+00,\n",
      "        -3.8009e-03, -1.0085e+00,  4.2037e-01,  3.3260e-02, -9.9398e-01,\n",
      "         5.0163e-01,  1.1846e+00,  6.9459e-01,  1.9784e-01,  1.4582e-01,\n",
      "         1.6424e+00, -1.0405e+00,  7.2957e-01, -6.7627e-01,  1.0961e+00,\n",
      "        -8.3718e-01,  3.2011e-01,  1.5352e-01, -1.4978e+00,  1.7959e-01,\n",
      "         1.1442e+00,  1.9229e-01, -1.6073e+00,  3.6404e-01, -1.2405e+00,\n",
      "        -5.1912e-02,  3.3027e-02,  2.5187e-01,  1.0455e+00,  4.4485e-01,\n",
      "         1.1322e+00, -8.1025e-01, -1.5315e-01,  9.3730e-01,  1.3075e-01,\n",
      "        -3.5918e-01,  5.4337e-01, -1.1790e+00, -1.8536e-01,  8.3953e-01,\n",
      "        -1.2071e-01, -3.3908e-01,  1.1227e+00, -1.1796e+00,  2.3727e-02,\n",
      "         2.9903e-01,  1.2378e+00,  1.2117e+00, -2.2561e+00,  1.6787e+00,\n",
      "         9.4963e-01, -5.6904e-02,  1.3232e+00,  3.5258e-01,  1.5311e+00,\n",
      "         5.6684e-01,  1.6787e+00, -1.4056e-01,  4.0214e-01,  1.5440e+00,\n",
      "        -1.1441e+00,  1.2456e-01,  8.7109e-01, -1.7315e+00, -1.0653e+00,\n",
      "        -2.1309e-01,  1.7896e+00, -1.5416e+00,  1.4906e+00, -9.0576e-01,\n",
      "        -3.2421e-01, -3.6904e-01, -1.7456e+00,  2.6253e-01,  6.4475e-01,\n",
      "        -7.5668e-01, -3.5973e-01, -4.1609e-01, -3.5537e-01,  1.1630e+00,\n",
      "        -8.3069e-01, -4.8164e-02,  2.3725e+00,  3.5939e-01, -1.1355e-01,\n",
      "         3.8374e-01,  7.0872e-01,  2.2134e-01,  8.8224e-01,  1.8651e-01,\n",
      "        -7.4417e-01,  6.5554e-01,  2.5503e-01,  1.1922e+00, -1.5075e+00,\n",
      "         2.1372e-01, -3.5136e-01, -1.4123e-01,  5.4529e-01,  2.3291e+00,\n",
      "        -2.3060e-03,  1.1981e+00,  6.7236e-02, -8.0406e-01, -4.9285e-01,\n",
      "        -1.2476e+00,  1.0432e+00,  2.8978e-01, -2.1915e+00,  1.4618e+00,\n",
      "         3.9873e-01, -1.1937e+00, -2.2317e-01,  1.9664e+00,  2.1550e-01,\n",
      "         9.4276e-01, -3.1600e-01,  5.5052e-01,  1.0875e+00, -9.1689e-02,\n",
      "        -4.8469e-01, -2.5799e-01,  1.4359e+00,  1.2960e+00,  3.9710e-01,\n",
      "        -2.0468e+00, -7.5159e-01,  9.4776e-01, -4.0496e-01, -1.2249e+00,\n",
      "         4.0825e-01,  9.8115e-01,  5.8836e-01,  5.9423e-01,  4.3749e-01,\n",
      "         7.5602e-01,  8.6306e-02,  9.8181e-01,  9.2498e-01, -9.6369e-01,\n",
      "         4.7035e-01, -2.2662e-01, -7.4447e-01, -6.7418e-01, -5.2480e-01,\n",
      "        -2.7300e+00, -5.7244e-01, -5.5601e-01,  4.9663e-01, -5.2792e-01,\n",
      "        -8.8917e-01, -8.4153e-01,  2.0368e-01, -3.0738e-01, -5.8037e-01,\n",
      "        -3.0482e-01, -2.3418e+00,  3.4250e-01, -6.7334e-01, -1.5694e+00,\n",
      "        -1.9026e-01, -7.5013e-01,  2.2002e-01,  8.5897e-01,  7.7287e-01,\n",
      "         1.0926e+00,  5.4773e-01, -7.1841e-01, -1.8894e-01, -6.6357e-01,\n",
      "        -3.9075e-01,  1.3411e+00, -1.3936e+00, -1.6947e+00, -4.2052e-01,\n",
      "         2.4039e+00, -4.6982e-01,  1.4862e+00, -1.3614e+00,  1.2804e-01,\n",
      "         4.3652e-01, -3.5113e-01, -1.3635e+00, -7.6991e-01,  2.3006e-02,\n",
      "         2.3633e-01,  1.2397e+00,  9.6235e-01,  5.8474e-03, -8.8876e-01,\n",
      "         1.5335e+00, -3.4116e-01,  1.8045e-01, -1.5714e+00,  6.8135e-01,\n",
      "         1.5503e+00,  9.3376e-01, -1.0382e-02, -3.7704e-01,  3.4043e-01,\n",
      "        -9.4813e-01, -1.4445e+00,  8.8661e-01, -1.7687e-01, -8.4840e-01,\n",
      "        -7.0935e-01,  4.2001e-01, -5.6537e-01, -3.0033e-01,  2.9592e-01,\n",
      "         3.1645e-01, -5.1161e-01,  1.8141e-01, -3.1190e-01,  6.8010e-01,\n",
      "         3.4675e-01,  1.2930e+00,  1.1874e+00, -4.8843e-01,  1.3301e+00,\n",
      "        -4.4473e-01, -9.8999e-01, -3.4529e-01,  4.3885e-02,  1.0176e+00,\n",
      "         3.1756e-01,  7.1299e-01, -4.5926e-01,  1.2553e+00,  8.3534e-01,\n",
      "        -8.0289e-01,  8.2930e-02, -8.1852e-01,  6.0383e-01, -7.9065e-01,\n",
      "        -1.1043e+00, -1.2738e+00,  5.3911e-01,  5.5643e-01,  6.0731e-01,\n",
      "         1.4605e+00, -3.0001e+00,  1.7078e-01, -1.6550e+00,  9.2818e-02,\n",
      "         7.1865e-01, -4.0039e-01,  1.1031e+00,  2.7767e-01,  5.5071e-01,\n",
      "        -1.5523e-01, -1.1153e+00,  1.3009e+00, -4.5102e-01, -5.4048e-01,\n",
      "        -2.3875e+00,  7.2581e-01, -3.3476e-01,  2.7670e-05, -6.1946e-01,\n",
      "        -1.6171e-01, -9.3036e-01,  1.6981e+00, -1.6384e+00,  7.1828e-01,\n",
      "         5.5527e-01,  8.4646e-01, -5.2032e-01,  2.8949e-01, -4.0593e-01,\n",
      "        -1.1491e+00, -5.6335e-01,  2.9367e-01,  5.7122e-01, -7.3455e-01,\n",
      "         7.4504e-01,  2.3769e-01,  7.1612e-01,  6.2693e-01,  2.0274e+00,\n",
      "         2.3694e-01, -4.2108e-01,  2.0291e-01,  1.1542e+00,  1.5599e-01,\n",
      "        -3.5838e-01, -1.9337e-02, -1.6425e+00,  1.5296e+00,  1.1738e+00,\n",
      "        -2.4600e-01,  5.2989e-01, -1.0505e+00, -6.7233e-01, -7.0541e-01,\n",
      "         4.1029e-01,  4.1866e-01,  8.3288e-01, -1.3213e+00, -1.3879e-01,\n",
      "        -9.9869e-01,  7.8292e-01,  4.7081e-01, -7.6196e-01, -3.7051e-01,\n",
      "        -1.0131e-01,  6.2080e-01, -3.3017e-01,  4.0376e-01,  1.4382e+00,\n",
      "         1.8982e+00,  1.2481e+00,  5.9404e-01,  2.7116e-01,  1.3747e+00,\n",
      "        -4.9343e-01,  1.0779e+00, -1.9778e+00, -8.1531e-01, -6.5692e-01,\n",
      "        -1.7950e+00, -8.7310e-01,  5.1213e-01, -8.6554e-01, -1.1392e+00,\n",
      "        -4.5168e-01, -7.7159e-04,  5.3247e-01,  3.7087e-01, -1.9088e+00,\n",
      "        -8.6382e-01, -1.4609e+00,  2.0980e+00, -1.1255e+00,  4.3178e-01,\n",
      "        -1.0410e-01,  2.1583e+00,  8.6201e-01,  7.8282e-02, -2.9617e+00,\n",
      "         1.7120e+00,  2.6935e-01, -1.2454e-01, -2.1858e+00,  2.7511e-01,\n",
      "         1.7138e+00,  1.5476e+00, -1.4246e+00,  9.1610e-01, -2.7074e+00,\n",
      "        -4.5367e-01, -2.8047e-01, -5.5234e-01, -1.2761e-01,  6.5964e-01,\n",
      "         8.2546e-01,  2.0189e+00, -7.6552e-01, -7.8034e-02, -9.9579e-01,\n",
      "         1.2872e+00,  6.5903e-01, -6.1122e-01,  4.0545e-01, -1.9495e+00,\n",
      "        -1.4281e+00,  8.5730e-01,  9.0031e-01,  1.5039e-01, -4.5968e-01,\n",
      "        -1.1585e+00, -1.0798e+00, -3.4445e-01,  1.9779e+00,  1.5271e-01,\n",
      "         4.2408e-01, -6.0552e-01, -1.5841e+00, -4.6443e-02,  3.4197e-01,\n",
      "         3.8570e-02, -1.7684e-01, -1.6309e+00, -5.9096e-01, -3.4820e-03,\n",
      "         3.0815e-01, -3.1375e-01,  9.9722e-01, -1.7853e+00, -1.0050e+00,\n",
      "        -1.2924e+00, -1.3576e+00, -5.0142e-01,  1.0312e+00, -9.7805e-01,\n",
      "        -4.7504e-01, -2.2482e-01,  1.7074e+00, -2.0815e-01, -2.5793e-01,\n",
      "         1.5672e+00,  9.2822e-01, -3.6026e-02,  1.8169e+00,  5.5637e-01,\n",
      "         6.2011e-01,  2.5106e+00, -7.4311e-01,  2.3565e+00,  9.7470e-01,\n",
      "        -1.6232e+00,  5.6316e-01,  5.3250e-02,  5.5527e-01,  6.4150e-02,\n",
      "        -1.0774e+00, -9.8939e-01, -8.2563e-01, -5.4796e-01,  2.1021e+00,\n",
      "        -1.7615e+00, -2.4065e+00, -1.3280e+00,  5.0372e-01, -7.1012e-02,\n",
      "         3.0327e-02,  6.1663e-01,  6.1256e-01, -1.6581e+00,  6.9706e-01,\n",
      "        -2.0717e-01,  5.8027e-01,  1.4160e+00, -1.5362e+00,  7.0367e-01,\n",
      "         1.8233e+00,  5.8429e-01, -5.2885e-01,  6.2134e-02,  9.7400e-01,\n",
      "        -9.9230e-01, -1.1618e+00,  1.5740e+00, -5.9326e-02, -9.8132e-01,\n",
      "        -2.3411e+00, -1.7930e+00,  7.8679e-01,  2.8897e-01,  3.7912e-01,\n",
      "         2.1355e-02, -9.7684e-01, -1.7207e+00,  1.3398e+00,  1.3912e+00,\n",
      "        -5.3637e-01, -1.9477e+00,  1.0673e+00, -2.0907e+00,  8.2218e-01,\n",
      "         2.7623e-01, -4.5926e-01, -6.9591e-01, -1.6710e+00,  3.2069e-01,\n",
      "        -7.2614e-01, -8.3104e-01,  7.9764e-01,  7.5383e-01, -5.0446e-01,\n",
      "        -2.2267e-01, -4.9191e-01,  6.1743e-01,  6.7783e-01, -1.9731e+00,\n",
      "        -1.8466e-01, -1.1371e+00, -4.2833e-01, -9.6606e-01, -1.1448e+00,\n",
      "         4.9489e-01,  8.9185e-01, -7.6331e-01, -3.3953e-01,  8.8562e-04,\n",
      "        -1.1063e+00,  3.4243e-01,  1.7087e+00, -7.9374e-01,  3.6809e-01,\n",
      "         1.0546e-01, -4.3885e-01, -9.9687e-01, -2.2082e+00,  1.2854e+00,\n",
      "        -7.4669e-01, -9.5414e-01,  1.1432e+00, -1.6106e+00,  6.5299e-01,\n",
      "        -9.5622e-02, -3.7969e-01, -7.8635e-01, -1.6592e+00,  7.4132e-01,\n",
      "        -4.5765e-01,  5.5939e-01,  5.8448e-01, -5.5154e-01,  7.6730e-02,\n",
      "        -9.6828e-01, -8.8121e-01, -2.0921e-01, -2.4057e-01,  3.7896e-01,\n",
      "         8.2004e-01, -6.5436e-01,  4.4890e-01, -3.4102e-01,  8.8333e-01,\n",
      "        -1.3497e+00, -4.1604e-01,  8.9256e-01, -1.8711e+00,  3.2118e-01,\n",
      "        -1.0727e+00, -9.1836e-01,  3.9804e-01,  3.1542e-01, -9.4286e-01,\n",
      "        -1.7680e-01, -7.0313e-01,  1.6801e+00, -1.5388e-01, -3.6591e-01,\n",
      "        -5.4193e-02,  3.4424e-01, -1.2641e+00,  1.3424e+00, -1.0630e+00,\n",
      "         6.4778e-01, -2.1007e-01, -4.6201e-01, -2.0793e+00,  3.3860e-02,\n",
      "        -1.3766e-01,  1.3619e+00,  9.8253e-01, -1.5826e+00, -4.9767e-01,\n",
      "        -1.1690e+00, -4.4073e-01,  6.1177e-01, -1.2855e+00,  1.3255e+00,\n",
      "         1.3462e-01,  1.7265e+00,  1.0687e+00,  6.0418e-01,  1.6709e-01,\n",
      "         6.8271e-01, -6.9788e-01, -2.4725e+00, -7.6559e-01,  2.3614e+00,\n",
      "         2.4588e+00,  1.3958e+00,  1.4679e-01, -7.9064e-01, -4.0958e-01,\n",
      "         7.5475e-01,  9.1914e-01, -3.4440e-01,  1.7385e+00,  1.8676e+00,\n",
      "        -6.9624e-02,  1.9583e+00,  1.2624e+00,  2.0726e+00, -1.6587e-02,\n",
      "        -7.3992e-01,  6.9693e-01,  3.3285e-01,  1.5773e+00,  4.3629e-01,\n",
      "         1.0067e+00, -3.9392e-01,  4.3357e-01,  1.8425e-01,  1.2413e+00,\n",
      "        -3.6958e-01, -3.6207e-02, -2.5999e+00,  8.1137e-01, -6.4271e-01,\n",
      "         1.3917e+00,  1.2170e+00, -1.4557e+00,  2.2384e-01,  1.2837e+00,\n",
      "         1.5076e-01, -1.3372e+00, -1.1071e+00,  8.6311e-01, -7.2678e-01,\n",
      "        -1.0171e+00, -1.2092e-02,  1.1003e+00,  8.4152e-01,  1.2417e+00,\n",
      "        -4.9383e-01,  9.4801e-01,  2.5166e-01, -5.9746e-01, -1.3053e+00,\n",
      "         1.1446e-01,  3.7187e-01, -1.3946e+00, -4.1037e-01, -1.6875e-01,\n",
      "        -1.2169e+00, -6.9998e-01, -8.8274e-01, -2.4832e-02, -1.5744e-01,\n",
      "        -1.6557e-02,  3.6440e-01,  9.1351e-01, -9.1080e-01, -2.5265e-01,\n",
      "        -5.9808e-01,  8.0015e-01, -6.2114e-02,  2.5575e-03, -1.4650e+00,\n",
      "         6.0324e-01,  3.1972e-01, -7.1665e-01,  4.4503e-01,  2.0950e+00,\n",
      "         2.1620e-01,  2.5868e-03, -2.4966e-01, -2.4484e-01,  1.1127e+00,\n",
      "         1.0229e-01,  1.2452e+00, -1.2362e-01, -5.0051e-01,  5.8433e-01,\n",
      "        -1.2792e+00,  9.4426e-01,  6.3375e-01,  6.0455e-01, -6.6645e-01,\n",
      "         2.5238e+00,  1.8773e+00, -2.1161e-02, -5.3868e-01, -1.1272e+00,\n",
      "         1.5605e-01, -2.3354e-01, -4.5628e-01,  1.2400e+00, -7.8260e-01,\n",
      "        -3.2018e-02, -1.0988e+00, -1.9039e-01,  2.9444e-01,  8.4728e-02,\n",
      "        -5.5356e-01,  7.1384e-01, -1.8531e+00, -1.4463e+00, -7.7391e-01,\n",
      "        -6.4972e-02, -1.0634e+00, -6.4327e-01, -2.5583e-01, -2.5331e-02,\n",
      "        -1.7973e-02,  1.0667e-01,  3.3993e-01, -5.0907e-02, -7.7451e-01,\n",
      "         9.7642e-01, -1.3783e+00,  7.6056e-01,  1.6796e+00, -1.2404e+00,\n",
      "         3.2185e-01,  1.9788e-03,  1.1076e+00, -2.0435e+00, -2.8213e-01,\n",
      "         7.9197e-01, -3.6240e-01, -2.8733e-02,  7.6054e-01,  2.0371e+00,\n",
      "        -9.8550e-01, -6.0300e-01, -2.3797e+00,  7.4019e-01,  3.0567e-01])\n",
      "\n"
     ]
    },
    {
     "data": {
      "text/plain": [
       "(array([ 1.,  0.,  0.,  0.,  0.,  1.,  0.,  0.,  0.,  0.,  0.,  0.,  0.,\n",
       "         3.,  0.,  0.,  0.,  2.,  0.,  3.,  1.,  1.,  3.,  4.,  1.,  3.,\n",
       "         1.,  3.,  2.,  8.,  5.,  1.,  9.,  7., 13.,  6.,  5.,  8., 10.,\n",
       "        10., 10., 10., 21.,  8., 19., 15., 12., 24., 25., 18., 14., 23.,\n",
       "        20., 27., 27., 15., 21., 20., 19., 24., 33., 26., 25., 24., 26.,\n",
       "        25., 25., 18., 17., 28., 24., 22., 20., 18., 18., 16., 11., 15.,\n",
       "        14., 13., 11.,  9.,  8.,  9.,  8.,  3.,  9.,  9.,  3.,  3.,  2.,\n",
       "         4.,  5.,  5.,  2.,  1.,  1.,  3.,  2.,  2.]),\n",
       " array([-3.82738805, -3.76387668, -3.7003653 , -3.63685393, -3.57334256,\n",
       "        -3.50983119, -3.44631982, -3.38280845, -3.31929684, -3.25578547,\n",
       "        -3.19227409, -3.12876272, -3.06525135, -3.00173998, -2.93822861,\n",
       "        -2.87471724, -2.81120586, -2.74769449, -2.68418312, -2.62067175,\n",
       "        -2.55716038, -2.49364901, -2.4301374 , -2.36662602, -2.30311465,\n",
       "        -2.23960328, -2.17609191, -2.11258054, -2.04906917, -1.98555779,\n",
       "        -1.92204642, -1.85853505, -1.79502368, -1.73151219, -1.66800082,\n",
       "        -1.60448945, -1.54097807, -1.4774667 , -1.41395533, -1.35044396,\n",
       "        -1.28693247, -1.2234211 , -1.15990973, -1.09639835, -1.03288698,\n",
       "        -0.96937555, -0.90586418, -0.84235281, -0.77884144, -0.71533   ,\n",
       "        -0.65181863, -0.58830726, -0.52479583, -0.46128446, -0.39777309,\n",
       "        -0.33426169, -0.27075031, -0.20723891, -0.14372753, -0.08021614,\n",
       "        -0.01670475,  0.04680664,  0.11031803,  0.17382942,  0.23734081,\n",
       "         0.30085218,  0.36436358,  0.42787498,  0.49138635,  0.55489773,\n",
       "         0.61840916,  0.68192053,  0.7454319 ,  0.80894327,  0.8724547 ,\n",
       "         0.93596607,  0.99947745,  1.06298888,  1.12650025,  1.19001162,\n",
       "         1.25352299,  1.31703436,  1.38054574,  1.44405723,  1.5075686 ,\n",
       "         1.57107997,  1.63459134,  1.69810271,  1.76161408,  1.82512546,\n",
       "         1.88863695,  1.95214832,  2.01565957,  2.07917118,  2.14268255,\n",
       "         2.20619392,  2.2697053 ,  2.33321667,  2.39672804,  2.46023941,\n",
       "         2.52375078]),\n",
       " <BarContainer object of 100 artists>)"
      ]
     },
     "execution_count": 4,
     "metadata": {},
     "output_type": "execute_result"
    },
    {
     "data": {
      "image/png": "[encoded data removed]",
      "text/plain": [
       "<Figure size 640x480 with 1 Axes>"
      ]
     },
     "metadata": {},
     "output_type": "display_data"
    }
   ],
   "source": [
    "import matplotlib.pyplot as plt\n",
    "data_rand3 = torch.randn(1000)\n",
    "print(f\"data_rand3 : \\n{data_rand3}\\n\")\n",
    "plt.hist(data_rand3, 100)"
   ]
  },
  {
   "cell_type": "markdown",
   "id": "d6f3c9e5",
   "metadata": {},
   "source": [
    "# Replace Tensor data Value"
   ]
  },
  {
   "cell_type": "code",
   "execution_count": 6,
   "id": "b01bb1e1",
   "metadata": {},
   "outputs": [
    {
     "ename": "NameError",
     "evalue": "name 'shape' is not defined",
     "output_type": "error",
     "traceback": [
      "\u001b[1;31m---------------------------------------------------------------------------\u001b[0m",
      "\u001b[1;31mNameError\u001b[0m                                 Traceback (most recent call last)",
      "Cell \u001b[1;32mIn[6], line 1\u001b[0m\n\u001b[1;32m----> 1\u001b[0m shape(\u001b[38;5;241m3\u001b[39m,\u001b[38;5;241m5\u001b[39m)\n\u001b[0;32m      2\u001b[0m data_rand_int1 \u001b[38;5;241m=\u001b[39m torch\u001b[38;5;241m.\u001b[39mrandint(\u001b[38;5;241m1\u001b[39m, \u001b[38;5;241m10\u001b[39m, shape)\n\u001b[0;32m      3\u001b[0m \u001b[38;5;28mprint\u001b[39m(\u001b[38;5;124mf\u001b[39m\u001b[38;5;124m\"\u001b[39m\u001b[38;5;124mdata_rand_int1 :  \u001b[39m\u001b[38;5;130;01m\\n\u001b[39;00m\u001b[38;5;132;01m{\u001b[39;00mdata_rand_int1\u001b[38;5;132;01m}\u001b[39;00m\u001b[38;5;130;01m\\n\u001b[39;00m\u001b[38;5;124m\"\u001b[39m)\n",
      "\u001b[1;31mNameError\u001b[0m: name 'shape' is not defined"
     ]
    }
   ],
   "source": [
    "shape(3,5)\n",
    "data_rand_int1 = torch.randint(1, 10, shape)\n",
    "print(f\"data_rand_int1 :  \\n{data_rand_int1}\\n\")"
   ]
  },
  {
   "cell_type": "code",
   "execution_count": 56,
   "id": "b51ac28a",
   "metadata": {},
   "outputs": [
    {
     "name": "stdout",
     "output_type": "stream",
     "text": [
      "data_rand_int :  \n",
      "tensor([11])\n",
      "\n"
     ]
    }
   ],
   "source": [
    "data_rand_int2 = torch.randint(3, 21, (1,))\n",
    "print(f\"data_rand_int :  \\n{data_rand_int2}\\n\")"
   ]
  },
  {
   "cell_type": "code",
   "execution_count": 58,
   "id": "22ef4b34",
   "metadata": {},
   "outputs": [
    {
     "name": "stdout",
     "output_type": "stream",
     "text": [
      "data_rand_int :  \n",
      "tensor([17])\n",
      "\n"
     ]
    }
   ],
   "source": [
    "data_rand_int2 = torch.randint(3, 21, (1,))\n",
    "print(f\"data_rand_int :  \\n{data_rand_int2}\\n\")"
   ]
  },
  {
   "cell_type": "code",
   "execution_count": 60,
   "id": "6e0dbfc3",
   "metadata": {},
   "outputs": [
    {
     "name": "stdout",
     "output_type": "stream",
     "text": [
      "data_rand_int :  \n",
      "tensor([6])\n",
      "\n",
      "torch.int64\n"
     ]
    }
   ],
   "source": [
    "data_rand_int2 = torch.randint(3, 21, (1,))\n",
    "print(f\"data_rand_int :  \\n{data_rand_int2}\\n\")\n",
    "print(data_rand_int2.dtype)"
   ]
  },
  {
   "cell_type": "code",
   "execution_count": 11,
   "id": "3144621f",
   "metadata": {},
   "outputs": [
    {
     "name": "stdout",
     "output_type": "stream",
     "text": [
      "data_rand_int :  \n",
      "12\n",
      "\n",
      "<class 'int'>\n"
     ]
    }
   ],
   "source": [
    "data_rand_int3 = torch.randint(3, 21, (1,)).item()\n",
    "print(f\"data_rand_int :  \\n{data_rand_int3}\\n\")\n",
    "print(type(data_rand_int3))"
   ]
  },
  {
   "cell_type": "code",
   "execution_count": 14,
   "id": "ef0be178",
   "metadata": {},
   "outputs": [
    {
     "name": "stdout",
     "output_type": "stream",
     "text": [
      "data_rand_perm :  \n",
      "tensor([1, 2, 4, 0, 3])\n",
      "\n"
     ]
    }
   ],
   "source": [
    "data_rand_perm = torch.randperm(5)#غیر تکراری\n",
    "print(f\"data_rand_perm :  \\n{data_rand_perm}\\n\")"
   ]
  },
  {
   "cell_type": "code",
   "execution_count": 62,
   "id": "c92a7e15",
   "metadata": {},
   "outputs": [
    {
     "name": "stdout",
     "output_type": "stream",
     "text": [
      "tensor([2, 3, 5, 4, 8, 7, 9])\n",
      "tensor([2, 3, 5, 4, 8, 7, 9, 2, 3, 5, 4, 8, 7, 9, 2, 3, 5, 4, 8, 7, 9])\n",
      "tensor([[2, 3, 5, 4, 8, 7, 9],\n",
      "        [2, 3, 5, 4, 8, 7, 9],\n",
      "        [2, 3, 5, 4, 8, 7, 9]])\n"
     ]
    }
   ],
   "source": [
    "vdata = torch.tensor([2, 3, 5, 4, 8, 7, 9])\n",
    "print(vdata)\n",
    "mat_data = vdata.repeat((3))\n",
    "print(mat_data)\n",
    "mat_data = vdata.repeat((3, 1))\n",
    "print(mat_data)"
   ]
  },
  {
   "cell_type": "code",
   "execution_count": null,
   "id": "c786c556",
   "metadata": {},
   "outputs": [],
   "source": []
  }
 ],
 "metadata": {
  "kernelspec": {
   "display_name": "Python 3 (ipykernel)",
   "language": "python",
   "name": "python3"
  },
  "language_info": {
   "codemirror_mode": {
    "name": "ipython",
    "version": 3
   },
   "file_extension": ".py",
   "mimetype": "text/x-python",
   "name": "python",
   "nbconvert_exporter": "python",
   "pygments_lexer": "ipython3",
   "version": "3.11.4"
  }
 },
 "nbformat": 4,
 "nbformat_minor": 5
}
