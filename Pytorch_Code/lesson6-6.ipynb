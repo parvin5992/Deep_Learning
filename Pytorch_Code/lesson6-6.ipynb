{
 "cells": [
  {
   "cell_type": "markdown",
   "id": "8ca05de8-caec-4fb4-86dd-4dae18ad8484",
   "metadata": {
    "jp-MarkdownHeadingCollapsed": true
   },
   "source": [
    "### convert Variable Data Type"
   ]
  },
  {
   "cell_type": "code",
   "execution_count": 2,
   "id": "613be2d3-b272-48df-92b2-436a4cda8726",
   "metadata": {},
   "outputs": [],
   "source": [
    "import torch\n",
    "import numpy as np\n",
    "from matplotlib import pyplot as plt"
   ]
  },
  {
   "cell_type": "code",
   "execution_count": 3,
   "id": "64e2d822-112f-44d2-b645-8a4951b87651",
   "metadata": {},
   "outputs": [
    {
     "name": "stdout",
     "output_type": "stream",
     "text": [
      "tensor([ 12., 345.,  67.])\n",
      "tensor([ 12., 345.,  67.], dtype=torch.float16)\n"
     ]
    }
   ],
   "source": [
    "data1=torch.tensor([12,345,67])\n",
    "print(data1.float())\n",
    "data1=data1.type(torch.float16)\n",
    "print(data1)"
   ]
  },
  {
   "cell_type": "markdown",
   "id": "93c55efa-8a81-4b1b-955e-c08b165938dd",
   "metadata": {
    "jp-MarkdownHeadingCollapsed": true
   },
   "source": [
    "### Tensor Methodes"
   ]
  },
  {
   "cell_type": "code",
   "execution_count": null,
   "id": "759e6bfe-d6da-4d0d-8dcf-806567f32f8c",
   "metadata": {
    "scrolled": true
   },
   "outputs": [],
   "source": [
    "data=torch.tensor([\n",
    "    [12,345,67,17,-72,24,2,46,-12,21],\n",
    "    [55,345,32,-16,-6,17,78,-87,11,25]\n",
    "])\n",
    "print(f\"Data : {data}\")\n",
    "print (f\"Data Float : {data.float()}\")\n",
    "print(f\"Data min : {data.min()}\")\n",
    "print(f\"Data max : {data.max()}\")\n",
    "print(f\"Data sum : {data.sum()}\")\n",
    "print(f\"Data Float mode : {data.float().mode()}\")\n",
    "print(f\"Data Float median: {data.float().median()}\")\n",
    "print(f\"Data Float mean : {data.float().mean()}\")\n",
    "print(f\"Data Float Var : {data.float().var()}\")\n",
    "print(f\"Data Float : {data.float().std()}\")\n",
    "print(f\"Data abs : {data.abs()}\")\n",
    "print(f\"Data T : {data.t()}\")"
   ]
  },
  {
   "cell_type": "code",
   "execution_count": 38,
   "id": "39daa515-1fa9-4283-a73e-884cf3d5a59c",
   "metadata": {},
   "outputs": [
    {
     "name": "stdout",
     "output_type": "stream",
     "text": [
      "Data : \ttensor([  2.3456,  15.0000,  89.3240,   9.0000,  -3.4800,   3.4800,  17.0000,\n",
      "         62.0000, 100.0000,  99.9990])\n",
      "Data Ceil : \ttensor([  3.,  15.,  90.,   9.,  -3.,   4.,  17.,  62., 100., 100.])\n",
      "Data Fix : \ttensor([  2.,  15.,  89.,   9.,  -3.,   3.,  17.,  62., 100.,  99.])\n",
      "Data Floor : \ttensor([  2.,  15.,  89.,   9.,  -4.,   3.,  17.,  62., 100.,  99.])\n",
      "Data Round :\ttensor([  2.,  15.,  89.,   9.,  -3.,   3.,  17.,  62., 100., 100.])\n",
      "Data Ceil_ : \ttensor([  3.,  15.,  90.,   9.,  -3.,   4.,  17.,  62., 100., 100.])\n"
     ]
    }
   ],
   "source": [
    "data3=torch.tensor([2.3456,15,89.324,9.,-3.48,3.48,17,62,100,99.999])\n",
    "print(f\"Data : \\t{data3}\")\n",
    "print (f\"Data Ceil : \\t{data3.ceil()}\")   #گرد کردن به سمت بالا\n",
    "print(f\"Data Fix : \\t{data3.fix()}\")     # گرد کردن به سمت پایین\n",
    "print(f\"Data Floor : \\t{data3.floor()}\")   #گرد کردن حذف اعشار\n",
    "print(f\"Data Round :\\t{data3.round()}\")  # روند کردن به بالا یا پایین بر اساس نمره\n",
    "print (f\"Data Ceil_ : \\t{data3.ceil_()}\")"
   ]
  },
  {
   "cell_type": "code",
   "execution_count": 30,
   "id": "0f25b74d-6932-473f-96eb-d5566da4981e",
   "metadata": {},
   "outputs": [
    {
     "name": "stdout",
     "output_type": "stream",
     "text": [
      "Data : \ttensor([  2.,  15.,   9.,   9.,  -3.,  17., 100.,  99.])\n",
      "Data argmax : \t6\n",
      "Data argmin : \t4\n",
      "Data topk : \ttorch.return_types.topk(\n",
      "values=tensor([100.,  99.,  17.,  15.]),\n",
      "indices=tensor([6, 7, 5, 1]))\n",
      "Data norm : \t143.14328002929688\n",
      "Data reminder : \ttensor([2., 1., 2., 2., 4., 3., 2., 1.])\n"
     ]
    }
   ],
   "source": [
    "data4=torch.tensor([2,15,9,9.,-3,17,100,99])\n",
    "print(f\"Data : \\t{data4}\")\n",
    "print (f\"Data argmax : \\t{torch.argmax(data4)}\")\n",
    "print (f\"Data argmin : \\t{torch.argmin(data4)}\")\n",
    "print (f\"Data topk : \\t{torch.topk(data4,4)}\")\n",
    "print (f\"Data norm : \\t{torch.norm(data4,p=2)}\")\n",
    "print (f\"Data reminder : \\t{torch.remainder(data4,7)}\")\n",
    "\n"
   ]
  },
  {
   "cell_type": "code",
   "execution_count": 41,
   "id": "5fa3631f-6575-4b9f-9fc4-28f0cb7295d1",
   "metadata": {},
   "outputs": [
    {
     "name": "stdout",
     "output_type": "stream",
     "text": [
      "Data3  : \ttensor([ 15, 150])\n",
      "Data1  : \t248.0\n",
      "Data2  : \ttensor([  2.,  17.,  26.,  35.,  32.,  49., 149., 248.])\n",
      "Data 3 : \t-1226907008.0\n",
      "Data 4 : \ttensor([ 2.0000e+00,  3.0000e+01,  2.7000e+02,  2.4300e+03, -7.2900e+03,\n",
      "        -1.2393e+05, -1.2393e+07, -1.2269e+09])\n",
      "Data 5 : \ttensor([ 13.,  -6.,   0., -12.,  20.,  83.,  -1.])\n"
     ]
    }
   ],
   "source": [
    "data4=torch.tensor([2,15,9,9.,-3,17,100,99])\n",
    "data3=torch.tensor([[1,2,3,4,5],[10,20,30,40,50]])\n",
    "\n",
    "print (f\"Data3  : \\t{torch.sum(data3,1)}\")\n",
    "\n",
    "print (f\"Data1  : \\t{torch.sum(data4,0)}\")\n",
    "print (f\"Data2  : \\t{torch.cumsum(data4,0)}\")\n",
    "print (f\"Data 3 : \\t{torch.prod(data4,0)}\")\n",
    "print (f\"Data 4 : \\t{torch.cumprod(data4,0)}\")\n",
    "print (f\"Data 5 : \\t{torch.diff(data4)}\")\n",
    "\n"
   ]
  },
  {
   "cell_type": "code",
   "execution_count": 3,
   "id": "9ee6e99c-54b6-443e-bc5f-697a5b9ef24e",
   "metadata": {},
   "outputs": [
    {
     "name": "stdout",
     "output_type": "stream",
     "text": [
      "Data : \ttensor([1, 2, 3, 4, 5, 6])\n",
      "Data : \ttensor([ 2.,  4.,  8., 16., 32., 64.])\n",
      "Data : \ttensor([1., 2., 3., 4., 5., 6.])\n",
      "Data : \ttensor([ 1,  4,  9, 16, 25, 36])\n",
      "Data : \ttensor([1., 2., 3., 4., 5., 6.])\n"
     ]
    },
    {
     "data": {
      "text/plain": [
       "tensor(65.3223)"
      ]
     },
     "execution_count": 3,
     "metadata": {},
     "output_type": "execute_result"
    }
   ],
   "source": [
    "data1=torch.tensor([1,2,3,4,5,6])\n",
    "data2=data1.exp2()\n",
    "data3=data2.log2()\n",
    "\n",
    "print(f\"Data : \\t{data1}\")\n",
    "print(f\"Data : \\t{data2}\")\n",
    "print(f\"Data : \\t{data3}\")\n",
    "\n",
    "data4=data1.square()\n",
    "data5=data4.sqrt()\n",
    "print(f\"Data : \\t{data4}\")\n",
    "print(f\"Data : \\t{data5}\")\n",
    "\n",
    "torch.dist(data1,data2,p=2)"
   ]
  },
  {
   "cell_type": "markdown",
   "id": "ad5c10ad-e5f8-47c6-9b93-7f60a7a8624e",
   "metadata": {
    "jp-MarkdownHeadingCollapsed": true
   },
   "source": [
    "### create tensor with specifice values"
   ]
  },
  {
   "cell_type": "code",
   "execution_count": 2,
   "id": "4fe396c1-8d1c-4242-9afb-98d25f19ebb8",
   "metadata": {},
   "outputs": [],
   "source": [
    "import torch\n",
    "import numpy as np\n",
    "from matplotlib import pyplot as plt"
   ]
  },
  {
   "cell_type": "code",
   "execution_count": 4,
   "id": "79b8322f-e85c-436d-a63e-ddafd3a39a83",
   "metadata": {},
   "outputs": [
    {
     "name": "stdout",
     "output_type": "stream",
     "text": [
      "vector data ones: \n",
      "tensor([ 1.,  3.,  5.,  7.,  9., 11., 13., 15., 17., 19.])\n",
      "====================================================================================================\n",
      "tensor([[1., 0., 0., 0., 0.],\n",
      "        [0., 1., 0., 0., 0.],\n",
      "        [0., 0., 1., 0., 0.],\n",
      "        [0., 0., 0., 1., 0.],\n",
      "        [0., 0., 0., 0., 1.]])\n"
     ]
    },
    {
     "name": "stderr",
     "output_type": "stream",
     "text": [
      "C:\\Users\\User\\AppData\\Local\\Temp\\ipykernel_9356\\569731434.py:1: UserWarning: torch.range is deprecated and will be removed in a future release because its behavior is inconsistent with Python's range builtin. Instead, use torch.arange, which produces values in [start, end).\n",
      "  vdata=torch.range(1,20,2)\n"
     ]
    }
   ],
   "source": [
    "vdata=torch.range(1,20,2)\n",
    "print(f\"vector data ones: \\n{vdata}\")\n",
    "print(100*\"=\")\n",
    "shape=(3,5)\n",
    "data_ones=torch.ones(shape)\n",
    "data_zeros=torch.zeros(shape)\n",
    "data_empty=torch.empty(shape)\n",
    "data_eye=torch.eye(5)\n",
    "\n",
    "# print(data_ones)\n",
    "# print(data_zeros)\n",
    "# print(data_empty)\n",
    "print(data_eye)\n"
   ]
  },
  {
   "cell_type": "markdown",
   "id": "25307cd1-8801-4605-ae42-c80b63150410",
   "metadata": {
    "jp-MarkdownHeadingCollapsed": true
   },
   "source": [
    "### Creat Tensor With Random Values"
   ]
  },
  {
   "cell_type": "code",
   "execution_count": 5,
   "id": "1f069f02-11f9-4fbf-8c9a-7e9715b45d74",
   "metadata": {},
   "outputs": [
    {
     "name": "stdout",
     "output_type": "stream",
     "text": [
      "tensor([[0.7222, 0.3329, 0.5734, 0.4423, 0.1626],\n",
      "        [0.1522, 0.3695, 0.6371, 0.5573, 0.0300]])\n",
      "====================================================================================================\n"
     ]
    },
    {
     "data": {
      "text/plain": [
       "(array([ 1.,  1.,  0.,  0.,  0.,  0.,  0.,  3.,  3.,  0.,  2.,  6.,  3.,\n",
       "         3.,  4.,  4.,  7.,  9.,  7.,  5.,  5., 14.,  9., 14., 18., 20.,\n",
       "        18., 19., 19., 30., 16., 23., 23., 18., 22., 34., 25., 26., 21.,\n",
       "        29., 30., 24., 32., 32., 31., 33., 31., 27., 29., 19., 20., 25.,\n",
       "        16., 15., 16., 20., 22., 12., 11., 12., 13., 13.,  4.,  9.,  6.,\n",
       "        10.,  3.,  2.,  0.,  4.,  2.,  4.,  1.,  1.,  1.,  0.,  1.,  2.,\n",
       "         0.,  0.,  1.,  0.,  2.,  0.,  1.,  1.,  0.,  0.,  0.,  0.,  0.,\n",
       "         0.,  0.,  0.,  0.,  0.,  0.,  0.,  0.,  1.]),\n",
       " array([-2.92128158e+00, -2.85000181e+00, -2.77872181e+00, -2.70744205e+00,\n",
       "        -2.63616228e+00, -2.56488252e+00, -2.49360251e+00, -2.42232275e+00,\n",
       "        -2.35104299e+00, -2.27976322e+00, -2.20848322e+00, -2.13720345e+00,\n",
       "        -2.06592369e+00, -1.99464381e+00, -1.92336392e+00, -1.85208416e+00,\n",
       "        -1.78080428e+00, -1.70952451e+00, -1.63824463e+00, -1.56696486e+00,\n",
       "        -1.49568498e+00, -1.42440522e+00, -1.35312533e+00, -1.28184557e+00,\n",
       "        -1.21056569e+00, -1.13928580e+00, -1.06800604e+00, -9.96726215e-01,\n",
       "        -9.25446391e-01, -8.54166567e-01, -7.82886744e-01, -7.11606920e-01,\n",
       "        -6.40327036e-01, -5.69047213e-01, -4.97767419e-01, -4.26487565e-01,\n",
       "        -3.55207741e-01, -2.83927917e-01, -2.12648094e-01, -1.41368270e-01,\n",
       "        -7.00884312e-02,  1.19139429e-03,  7.24712238e-02,  1.43751055e-01,\n",
       "         2.15030879e-01,  2.86310703e-01,  3.57590526e-01,  4.28870380e-01,\n",
       "         5.00150204e-01,  5.71430027e-01,  6.42709851e-01,  7.13989675e-01,\n",
       "         7.85269499e-01,  8.56549323e-01,  9.27829146e-01,  9.99108970e-01,\n",
       "         1.07038879e+00,  1.14166868e+00,  1.21294844e+00,  1.28422832e+00,\n",
       "         1.35550809e+00,  1.42678797e+00,  1.49806774e+00,  1.56934762e+00,\n",
       "         1.64062750e+00,  1.71190727e+00,  1.78318715e+00,  1.85446692e+00,\n",
       "         1.92574680e+00,  1.99702656e+00,  2.06830645e+00,  2.13958621e+00,\n",
       "         2.21086597e+00,  2.28214598e+00,  2.35342574e+00,  2.42470551e+00,\n",
       "         2.49598551e+00,  2.56726527e+00,  2.63854504e+00,  2.70982480e+00,\n",
       "         2.78110480e+00,  2.85238457e+00,  2.92366433e+00,  2.99494410e+00,\n",
       "         3.06622410e+00,  3.13750386e+00,  3.20878363e+00,  3.28006339e+00,\n",
       "         3.35134339e+00,  3.42262316e+00,  3.49390292e+00,  3.56518292e+00,\n",
       "         3.63646269e+00,  3.70774245e+00,  3.77902222e+00,  3.85030222e+00,\n",
       "         3.92158198e+00,  3.99286175e+00,  4.06414175e+00,  4.13542128e+00,\n",
       "         4.20670128e+00]),\n",
       " <BarContainer object of 100 artists>)"
      ]
     },
     "execution_count": 5,
     "metadata": {},
     "output_type": "execute_result"
    },
    {
     "data": {
      "image/png": "[encoded data removed]",
      "text/plain": [
       "<Figure size 640x480 with 1 Axes>"
      ]
     },
     "metadata": {},
     "output_type": "display_data"
    }
   ],
   "source": [
    "#torch.manual_seed(42)\n",
    "# data_rand1=torch.rand(10)\n",
    "data_rand1=torch.rand(2,5)\n",
    "print(data_rand1)\n",
    "data_rand2=torch.rand(1000)\n",
    "plt.hist(data_rand2,100)\n",
    "print(100*\"=\")\n",
    "data_rand3=torch.randn(100)\n",
    "data_rand4=torch.randn(1000)\n",
    "plt.hist(data_rand4,100)\n"
   ]
  },
  {
   "cell_type": "code",
   "execution_count": 6,
   "id": "4bef9c92-ce67-4a9d-ba48-f2e8f95d561a",
   "metadata": {},
   "outputs": [
    {
     "name": "stdout",
     "output_type": "stream",
     "text": [
      "tensor([[5, 6, 8, 1, 4],\n",
      "        [1, 9, 3, 7, 3],\n",
      "        [8, 4, 7, 4, 6]])\n",
      "====================================================================================================\n",
      "tensor([9])\n",
      "torch.int64\n",
      "====================================================================================================\n",
      "16\n",
      "====================================================================================================\n",
      "tensor([3, 1, 2, 0, 4])\n"
     ]
    }
   ],
   "source": [
    "shape=(3,5)\n",
    "data_rand_int1=torch.randint(1,10,shape)\n",
    "print(data_rand_int1)\n",
    "print(100*\"=\")\n",
    "\n",
    "data_rand_int2=torch.randint(1,21,(1,))\n",
    "print(data_rand_int2)\n",
    "print(data_rand_int2.dtype)\n",
    "print(100*\"=\")\n",
    "data_rand_int3=torch.randint(1,21,(1,)).item()\n",
    "print(data_rand_int3)\n",
    "print(100*\"=\")\n",
    "\n",
    "data_rand_perm=torch.randperm(5)\n",
    "print(data_rand_perm)\n"
   ]
  },
  {
   "cell_type": "code",
   "execution_count": 7,
   "id": "71ede2fd-4f4d-4343-a599-dfef862a41db",
   "metadata": {},
   "outputs": [
    {
     "name": "stdout",
     "output_type": "stream",
     "text": [
      "tensor([1, 3, 5, 6])\n",
      "tensor([[1, 3, 5, 6],\n",
      "        [1, 3, 5, 6],\n",
      "        [1, 3, 5, 6]])\n",
      "tensor([[1, 3, 5, 6],\n",
      "        [1, 3, 5, 6],\n",
      "        [1, 3, 5, 6]])\n"
     ]
    }
   ],
   "source": [
    "vdata=torch.tensor([1,3,5,6])\n",
    "mat_data=vdata.repeat((3))\n",
    "mat_data=vdata.repeat((3,1))\n",
    "print(vdata)\n",
    "print(mat_data)\n",
    "print(mat_data)"
   ]
  },
  {
   "cell_type": "code",
   "execution_count": null,
   "id": "9d1e11bb-341a-4b22-a94f-9ed0d705cf84",
   "metadata": {},
   "outputs": [],
   "source": []
  }
 ],
 "metadata": {
  "kernelspec": {
   "display_name": "Python 3 (ipykernel)",
   "language": "python",
   "name": "python3"
  },
  "language_info": {
   "codemirror_mode": {
    "name": "ipython",
    "version": 3
   },
   "file_extension": ".py",
   "mimetype": "text/x-python",
   "name": "python",
   "nbconvert_exporter": "python",
   "pygments_lexer": "ipython3",
   "version": "3.11.4"
  }
 },
 "nbformat": 4,
 "nbformat_minor": 5
}
