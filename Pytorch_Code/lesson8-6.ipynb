{
 "cells": [
  {
   "cell_type": "markdown",
   "id": "fc138bc8-270e-400b-891b-ac91c105b446",
   "metadata": {
    "jp-MarkdownHeadingCollapsed": true
   },
   "source": [
    "### Reshape "
   ]
  },
  {
   "cell_type": "code",
   "execution_count": 1,
   "id": "7acdb7e6-9c1f-4791-936b-be3060c55b2d",
   "metadata": {},
   "outputs": [],
   "source": [
    "import torch\n",
    "import numpy as np\n",
    "from matplotlib import pyplot as plt"
   ]
  },
  {
   "cell_type": "markdown",
   "id": "480f2981-d238-4655-a720-2e1aa7e994f2",
   "metadata": {},
   "source": [
    "#### Vector"
   ]
  },
  {
   "cell_type": "code",
   "execution_count": 10,
   "id": "924924ae-58bb-4df1-b33e-714369b4c63f",
   "metadata": {},
   "outputs": [
    {
     "name": "stdout",
     "output_type": "stream",
     "text": [
      "tensor([ 9,  4,  1, 10,  6,  7,  8, 11,  5,  7,  1,  3,  3,  2, 10,  6, 11,  3,\n",
      "         4,  7,  6,  8,  5,  7,  9,  7,  4,  9,  7, 11])\n",
      "torch.Size([30])\n",
      "tensor([[[ 9,  4,  1],\n",
      "         [10,  6,  7],\n",
      "         [ 8, 11,  5],\n",
      "         [ 7,  1,  3],\n",
      "         [ 3,  2, 10]],\n",
      "\n",
      "        [[ 6, 11,  3],\n",
      "         [ 4,  7,  6],\n",
      "         [ 8,  5,  7],\n",
      "         [ 9,  7,  4],\n",
      "         [ 9,  7, 11]]])\n",
      "tensor([[ 9,  4,  1, 10,  6,  7,  8, 11,  5,  7,  1,  3,  3,  2, 10],\n",
      "        [ 6, 11,  3,  4,  7,  6,  8,  5,  7,  9,  7,  4,  9,  7, 11]])\n",
      "tensor([[[[ 9,  4],\n",
      "          [ 1, 10],\n",
      "          [ 6,  7],\n",
      "          [ 8, 11],\n",
      "          [ 5,  7]],\n",
      "\n",
      "         [[ 1,  3],\n",
      "          [ 3,  2],\n",
      "          [10,  6],\n",
      "          [11,  3],\n",
      "          [ 4,  7]],\n",
      "\n",
      "         [[ 6,  8],\n",
      "          [ 5,  7],\n",
      "          [ 9,  7],\n",
      "          [ 4,  9],\n",
      "          [ 7, 11]]]])\n"
     ]
    }
   ],
   "source": [
    "vector_data = torch.randint(1,12,(30,))\n",
    "print(vector_data )\n",
    "print(vector_data.shape)\n",
    "print(vector_data.reshape(2,5,3))\n",
    "print(vector_data.reshape(2,15))\n",
    "print(vector_data.reshape(1,3,5,2))"
   ]
  },
  {
   "cell_type": "markdown",
   "id": "66b75afa-3233-4b50-842e-973db9fed9bb",
   "metadata": {},
   "source": [
    "###### unsqueeze"
   ]
  },
  {
   "cell_type": "code",
   "execution_count": 11,
   "id": "da6cfaa8-77da-400f-a2bb-4ca60f08f298",
   "metadata": {},
   "outputs": [
    {
     "name": "stdout",
     "output_type": "stream",
     "text": [
      "vector_data1.shape : torch.Size([8])\n",
      "vector_data1 : tensor([11, 16, 18,  6, 18, 17, 14, 20])\n",
      "vector_data2.shape : torch.Size([1, 8])\n",
      "vector_data2 : tensor([[11, 16, 18,  6, 18, 17, 14, 20]])\n"
     ]
    }
   ],
   "source": [
    "vector_data1 = torch.randint(1,21,(8,))\n",
    "print(f\"vector_data1.shape : {vector_data1.shape}\")\n",
    "print(f\"vector_data1 : {vector_data1}\")\n",
    "vector_data2 = vector_data1.unsqueeze(0)#سطری\n",
    "print(f\"vector_data2.shape : {vector_data2.shape}\")\n",
    "print(f\"vector_data2 : {vector_data2}\")"
   ]
  },
  {
   "cell_type": "code",
   "execution_count": 13,
   "id": "517e0613-c2f0-413c-b43d-3efdb308a384",
   "metadata": {},
   "outputs": [
    {
     "name": "stdout",
     "output_type": "stream",
     "text": [
      "vector_data1.shape : torch.Size([8])\n",
      "vector_data1 : tensor([11,  8, 12,  1,  6, 10, 19,  6])\n",
      "vector_data3.shape : torch.Size([8, 1])\n",
      "vector_data3 :\n",
      " tensor([[11],\n",
      "        [ 8],\n",
      "        [12],\n",
      "        [ 1],\n",
      "        [ 6],\n",
      "        [10],\n",
      "        [19],\n",
      "        [ 6]])\n"
     ]
    }
   ],
   "source": [
    "vector_data1 = torch.randint(1,21,(8,))\n",
    "print(f\"vector_data1.shape : {vector_data1.shape}\")\n",
    "print(f\"vector_data1 : {vector_data1}\")\n",
    "vector_data3 = vector_data1.unsqueeze(1)#ستونی\n",
    "print(f\"vector_data3.shape : {vector_data3.shape}\")\n",
    "print(f\"vector_data3 :\\n {vector_data3}\")"
   ]
  },
  {
   "cell_type": "markdown",
   "id": "607b9729-22c4-4a46-858b-148882020221",
   "metadata": {},
   "source": [
    "#### Mat"
   ]
  },
  {
   "cell_type": "code",
   "execution_count": 16,
   "id": "289760c4-fbbe-48fb-bd5f-a5f6499a7c99",
   "metadata": {},
   "outputs": [
    {
     "name": "stdout",
     "output_type": "stream",
     "text": [
      "mat_data1.shape : torch.Size([3, 5])\n",
      "mat_data1.: \n",
      "tensor([[19, 19,  9, 15, 19],\n",
      "        [15,  7,  9, 15, 10],\n",
      "        [18, 14, 19,  2,  8]])\n",
      "mat_data.shape : torch.Size([1, 3, 5]),\n",
      "\n",
      ",torch.Size([3, 1, 5]),\n",
      "\n",
      ",torch.Size([3, 5, 1])\n",
      "mat_data : \n",
      "tensor([[[19, 19,  9, 15, 19],\n",
      "         [15,  7,  9, 15, 10],\n",
      "         [18, 14, 19,  2,  8]]]),\n",
      "\n",
      ",tensor([[[19, 19,  9, 15, 19]],\n",
      "\n",
      "        [[15,  7,  9, 15, 10]],\n",
      "\n",
      "        [[18, 14, 19,  2,  8]]]),\n",
      "\n",
      ",tensor([[[19],\n",
      "         [19],\n",
      "         [ 9],\n",
      "         [15],\n",
      "         [19]],\n",
      "\n",
      "        [[15],\n",
      "         [ 7],\n",
      "         [ 9],\n",
      "         [15],\n",
      "         [10]],\n",
      "\n",
      "        [[18],\n",
      "         [14],\n",
      "         [19],\n",
      "         [ 2],\n",
      "         [ 8]]])\n"
     ]
    }
   ],
   "source": [
    "mat_data1 = torch.randint(1,21,(3,5))\n",
    "print(f\"mat_data1.shape : {mat_data1.shape}\")\n",
    "print(f\"mat_data1.: \\n{mat_data1}\")\n",
    "###unsqueeze\n",
    "mat_data2 = mat_data1.unsqueeze(0)\n",
    "mat_data3 = mat_data1.unsqueeze(1)\n",
    "mat_data4 = mat_data1.unsqueeze(2)\n",
    "print(f\"mat_data.shape : {mat_data2.shape},\\n\\n,{mat_data3.shape},\\n\\n,{mat_data4.shape}\")\n",
    "print(f\"mat_data : \\n{mat_data2},\\n\\n,{mat_data3},\\n\\n,{mat_data4}\")"
   ]
  },
  {
   "cell_type": "markdown",
   "id": "93d3846a-a8ee-4804-88cb-376451e82697",
   "metadata": {},
   "source": [
    "##### Squeeze"
   ]
  },
  {
   "cell_type": "code",
   "execution_count": 17,
   "id": "33e9d985-c3dc-46e3-8812-8c976bfd3c7c",
   "metadata": {},
   "outputs": [
    {
     "name": "stdout",
     "output_type": "stream",
     "text": [
      "mat_data2.shape : torch.Size([1, 3, 1, 1, 5]),\n",
      "\n",
      ",torch.Size([3, 1, 1, 5]),\n",
      "\n",
      ",\n",
      "torch.Size([3, 1, 5]),\n",
      "\n",
      ",torch.Size([3, 5]),,\n",
      "\n",
      ",torch.Size([15])\n",
      "mat_data : tensor([[[[[ 4, 16,  8, 15, 12]]],\n",
      "\n",
      "\n",
      "         [[[13,  9, 19,  7, 18]]],\n",
      "\n",
      "\n",
      "         [[[17, 13, 11, 17, 15]]]]]),\n",
      "\n",
      ",tensor([[[[ 4, 16,  8, 15, 12]]],\n",
      "\n",
      "\n",
      "        [[[13,  9, 19,  7, 18]]],\n",
      "\n",
      "\n",
      "        [[[17, 13, 11, 17, 15]]]]),\n",
      "\n",
      ",tensor([[[ 4, 16,  8, 15, 12]],\n",
      "\n",
      "        [[13,  9, 19,  7, 18]],\n",
      "\n",
      "        [[17, 13, 11, 17, 15]]]),\n",
      "\n",
      ",tensor([[ 4, 16,  8, 15, 12],\n",
      "        [13,  9, 19,  7, 18],\n",
      "        [17, 13, 11, 17, 15]]),,\n",
      "\n",
      ",tensor([ 4, 16,  8, 15, 12, 13,  9, 19,  7, 18, 17, 13, 11, 17, 15])\n"
     ]
    }
   ],
   "source": [
    "tens_data1 = torch.randint(1,21,(1,3,1,1,5))\n",
    "tens_data2 = tens_data1.squeeze(0)\n",
    "tens_data3 = tens_data2.squeeze(1)\n",
    "tens_data4 = tens_data3.squeeze(1)\n",
    "tens_data5 = tens_data4.reshape(15,)\n",
    "print(f\"\"\"mat_data2.shape : {tens_data1.shape},\\n\\n,{tens_data2.shape},\\n\\n,\n",
    "{tens_data3.shape},\\n\\n,{tens_data4.shape},,\\n\\n,{tens_data5.shape}\"\"\")\n",
    "print(f\"mat_data : {tens_data1},\\n\\n,{tens_data2},\\n\\n,{tens_data3},\\n\\n,{tens_data4},,\\n\\n,{tens_data5}\")\n"
   ]
  },
  {
   "cell_type": "markdown",
   "id": "3e74ad2e-7cf8-4acc-a185-ab447b971435",
   "metadata": {},
   "source": [
    "## Numpy and Pytorch"
   ]
  },
  {
   "cell_type": "code",
   "execution_count": 18,
   "id": "aeefa349-3be5-4058-a8e3-ea3a7a32389c",
   "metadata": {},
   "outputs": [
    {
     "name": "stdout",
     "output_type": "stream",
     "text": [
      " nArray.shape : (7,),\n",
      "\n",
      " nArray : [ 12.    34.   546.     6.     5.    76.34 789.  ],\n",
      "\n",
      " nArray.dtype : float64,\n",
      "\n",
      "____________________________________________________________________________________________________\n",
      " tens.shape : torch.Size([7])\n",
      " tens : tensor([ 12.0000,  34.0000, 546.0000,   6.0000,   5.0000,  76.3400, 789.0000])\n",
      " tens.dtype : torch.float32\n",
      "____________________________________________________________________________________________________\n",
      " tens1.shape : torch.Size([7]),\n",
      "\n",
      " tens1 : tensor([ 12.0000,  34.0000, 546.0000,   6.0000,   5.0000,  76.3400, 789.0000],\n",
      "       dtype=torch.float64),\n",
      "\n",
      " tens1.dtype : torch.float64,\n",
      "\n",
      "____________________________________________________________________________________________________\n",
      " tens2.shape : torch.Size([7]),\n",
      "\n",
      " tens2 : tensor([ 12.0000,  34.0000, 546.0000,   6.0000,   5.0000,  76.3400, 789.0000]),\n",
      "\n",
      " tens2.dtype : torch.float32,\n",
      "\n"
     ]
    }
   ],
   "source": [
    "nArray=np.array([12,34,546,6,5,76.34,789])\n",
    "print(f\" nArray.shape : { nArray.shape},\\n\")\n",
    "print(f\" nArray : { nArray},\\n\")\n",
    "print(f\" nArray.dtype : { nArray.dtype},\\n\")\n",
    "print(100*\"_\")\n",
    "tens=torch.tensor([12,34,546,6,5,76.34,789])\n",
    "print(f\" tens.shape : { tens.shape}\")\n",
    "print(f\" tens : {tens}\")\n",
    "print(f\" tens.dtype : {tens.dtype}\")\n",
    "print(100*\"_\")\n",
    "tens1=torch.tensor(nArray)\n",
    "print(f\" tens1.shape : { tens1.shape},\\n\")\n",
    "print(f\" tens1 : {tens1},\\n\")\n",
    "print(f\" tens1.dtype : {tens1.dtype},\\n\")\n",
    "print(100*\"_\")\n",
    "tens2=torch.tensor(nArray,dtype=torch.float32)\n",
    "print(f\" tens2.shape : { tens2.shape},\\n\")\n",
    "print(f\" tens2 : {tens2},\\n\")\n",
    "print(f\" tens2.dtype : {tens2.dtype},\\n\")"
   ]
  },
  {
   "cell_type": "code",
   "execution_count": null,
   "id": "538d8f5b-34a4-4738-8b8c-cc7fb7f975e7",
   "metadata": {},
   "outputs": [],
   "source": []
  }
 ],
 "metadata": {
  "kernelspec": {
   "display_name": "Python 3 (ipykernel)",
   "language": "python",
   "name": "python3"
  },
  "language_info": {
   "codemirror_mode": {
    "name": "ipython",
    "version": 3
   },
   "file_extension": ".py",
   "mimetype": "text/x-python",
   "name": "python",
   "nbconvert_exporter": "python",
   "pygments_lexer": "ipython3",
   "version": "3.11.4"
  }
 },
 "nbformat": 4,
 "nbformat_minor": 5
}
