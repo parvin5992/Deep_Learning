{
 "cells": [
  {
   "cell_type": "code",
   "execution_count": 1,
   "id": "715379b7",
   "metadata": {},
   "outputs": [],
   "source": [
    "import torch\n"
   ]
  },
  {
   "cell_type": "code",
   "execution_count": 7,
   "id": "b372d4c2",
   "metadata": {},
   "outputs": [
    {
     "name": "stdout",
     "output_type": "stream",
     "text": [
      "tensor(12)\n",
      "torch.int64\n",
      "torch.Size([])\n",
      "cpu\n"
     ]
    }
   ],
   "source": [
    "data_scaler1 = torch.tensor(12)\n",
    "print(data_scaler1)\n",
    "print(data_scaler1.dtype)\n",
    "print(data_scaler1.shape)\n",
    "print(data_scaler1.device)"
   ]
  },
  {
   "cell_type": "code",
   "execution_count": 9,
   "id": "1ab4386f",
   "metadata": {},
   "outputs": [
    {
     "name": "stdout",
     "output_type": "stream",
     "text": [
      "tensor(56.7000)\n",
      "torch.float32\n",
      "torch.Size([])\n",
      "cpu\n",
      "torch.Size([])\n"
     ]
    }
   ],
   "source": [
    "data_scaler2 = torch.tensor(56.7)\n",
    "print(data_scaler2)\n",
    "print(data_scaler2.dtype)\n",
    "print(data_scaler2.shape)\n",
    "print(data_scaler2.device)\n",
    "print(data_scaler2.size())"
   ]
  },
  {
   "cell_type": "code",
   "execution_count": 11,
   "id": "4146f631",
   "metadata": {},
   "outputs": [
    {
     "name": "stdout",
     "output_type": "stream",
     "text": [
      "tensor(True)\n",
      "torch.bool\n",
      "torch.Size([])\n",
      "cpu\n",
      "torch.Size([])\n"
     ]
    }
   ],
   "source": [
    "data_scaler3 = torch.tensor(True)\n",
    "print(data_scaler3)\n",
    "print(data_scaler3.dtype)\n",
    "print(data_scaler3.shape)\n",
    "print(data_scaler3.device)\n",
    "print(data_scaler3.size())"
   ]
  },
  {
   "cell_type": "code",
   "execution_count": 13,
   "id": "19e0f2ec",
   "metadata": {},
   "outputs": [
    {
     "name": "stdout",
     "output_type": "stream",
     "text": [
      "tensor(12., dtype=torch.float64)\n",
      "torch.float64\n",
      "torch.Size([])\n",
      "cpu\n",
      "torch.Size([])\n"
     ]
    }
   ],
   "source": [
    "data_scaler4 = torch.tensor(12, dtype = torch.float64)\n",
    "print(data_scaler4)\n",
    "print(data_scaler4.dtype)\n",
    "print(data_scaler4.shape)\n",
    "print(data_scaler4.device)\n",
    "print(data_scaler4.size())"
   ]
  },
  {
   "cell_type": "code",
   "execution_count": 15,
   "id": "776c9f08",
   "metadata": {},
   "outputs": [
    {
     "name": "stdout",
     "output_type": "stream",
     "text": [
      "tensor(12., dtype=torch.float64)\n",
      "torch.float64\n",
      "torch.Size([])\n",
      "cpu\n",
      "torch.Size([])\n"
     ]
    }
   ],
   "source": [
    "data_scaler5 = torch.tensor(12., dtype = torch.float64)\n",
    "print(data_scaler5)\n",
    "print(data_scaler5.dtype)\n",
    "print(data_scaler5.shape)\n",
    "print(data_scaler5.device)\n",
    "print(data_scaler5.size())"
   ]
  },
  {
   "cell_type": "code",
   "execution_count": 17,
   "id": "d094017d",
   "metadata": {},
   "outputs": [
    {
     "name": "stdout",
     "output_type": "stream",
     "text": [
      "tensor([ 1, 12, 13, 58, 45])\n",
      "torch.int64\n",
      "torch.Size([5])\n",
      "cpu\n"
     ]
    }
   ],
   "source": [
    "data_vector1 = torch.tensor([1, 12, 13, 58, 45])\n",
    "print(data_vector1)\n",
    "print(data_vector1.dtype)\n",
    "print(data_vector1.shape)\n",
    "print(data_vector1.device)\n"
   ]
  },
  {
   "cell_type": "code",
   "execution_count": 45,
   "id": "62584c18",
   "metadata": {},
   "outputs": [
    {
     "name": "stdout",
     "output_type": "stream",
     "text": [
      "tensor([[ 1, 12, 13, 58, 45],\n",
      "        [ 1, 25, 23, 45, 65],\n",
      "        [24, 58, 26, 25, 66]])\n",
      "torch.int64\n",
      "5\n",
      "cpu\n",
      "torch.Size([3, 5])\n"
     ]
    }
   ],
   "source": [
    " data_mat1 = torch.tensor([\n",
    "     [1, 12, 13, 58, 45],\n",
    "     [1, 25, 23, 45, 65],\n",
    "     [24, 58, 26, 25, 66]   \n",
    " ])\n",
    "print(data_mat1)\n",
    "print(data_mat1.dtype)\n",
    "print(data_mat1.shape[1])\n",
    "print(data_mat1.device)\n",
    "print(data_mat1.size())"
   ]
  },
  {
   "cell_type": "code",
   "execution_count": 41,
   "id": "37fdd90f",
   "metadata": {},
   "outputs": [
    {
     "name": "stdout",
     "output_type": "stream",
     "text": [
      "tensor([[[ 1, 12, 13, 58, 45],\n",
      "         [ 1, 25, 23, 45, 65],\n",
      "         [24, 58, 26, 25, 66]],\n",
      "\n",
      "        [[ 1, 12, 13, 58, 45],\n",
      "         [ 1, 25, 23, 45, 65],\n",
      "         [24, 58, 26, 25, 66]]])\n",
      "torch.int64\n",
      "5\n",
      "cpu\n",
      "torch.Size([2, 3, 5])\n"
     ]
    }
   ],
   "source": [
    " data_tens1 = torch.tensor([\n",
    "     [[1, 12, 13, 58, 45],\n",
    "     [1, 25, 23, 45, 65],\n",
    "     [24, 58, 26, 25, 66]],\n",
    "     [[1, 12, 13, 58, 45],\n",
    "     [1, 25, 23, 45, 65],\n",
    "     [24, 58, 26, 25, 66]]\n",
    "     \n",
    " ])\n",
    "print(data_tens1)\n",
    "print(data_tens1.dtype)\n",
    "print(data_tens1.shape[2])\n",
    "print(data_tens1.device)\n",
    "print(data_tens1.size())"
   ]
  }
 ],
 "metadata": {
  "kernelspec": {
   "display_name": "Python 3 (ipykernel)",
   "language": "python",
   "name": "python3"
  },
  "language_info": {
   "codemirror_mode": {
    "name": "ipython",
    "version": 3
   },
   "file_extension": ".py",
   "mimetype": "text/x-python",
   "name": "python",
   "nbconvert_exporter": "python",
   "pygments_lexer": "ipython3",
   "version": "3.11.4"
  }
 },
 "nbformat": 4,
 "nbformat_minor": 5
}
