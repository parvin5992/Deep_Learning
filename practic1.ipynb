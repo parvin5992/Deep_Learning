{
 "cells": [
  {
   "cell_type": "markdown",
   "id": "6be8da52-1a5b-403e-ab6d-a9be13f39f77",
   "metadata": {
    "jp-MarkdownHeadingCollapsed": true
   },
   "source": [
    "## بخش اول تمرین 1"
   ]
  },
  {
   "cell_type": "code",
   "execution_count": 2,
   "id": "2b7a27ae-859c-4924-bda4-2e55395b2ec4",
   "metadata": {},
   "outputs": [],
   "source": [
    "import pandas as pd\n",
    "import numpy as np\n",
    "from sklearn.model_selection import train_test_split\n",
    "from sklearn.Preprocessing import StandardScaler, Label Encoder, and OneHotEncoder\n",
    "from sklearn.impute import SimpleImputer\n",
    "import seaborn as sns\n",
    "import matplotlib.pyplot as plt"
   ]
  },
  {
   "cell_type": "code",
   "execution_count": 4,
   "id": "355d1ae0-e5ec-4aaa-a7ca-de8ecf9ea924",
   "metadata": {},
   "outputs": [
    {
     "name": "stdout",
     "output_type": "stream",
     "text": [
      "     client_id loan_type  loan_amount  repaid  loan_id  loan_start  \\\n",
      "0        46109      home        13672       0    10243  2002-04-16   \n",
      "1        46109    credit         9794       0    10984  2003-10-21   \n",
      "2        46109      home        12734       1    10990  2006-02-01   \n",
      "3        46109      cash        12518       1    10596  2010-12-08   \n",
      "4        46109    credit        14049       1    11415  2010-07-07   \n",
      "..         ...       ...          ...     ...      ...         ...   \n",
      "438      26945     other        12963       0    10330  2001-11-26   \n",
      "439      26945    credit         1728       1    10248  2004-01-27   \n",
      "440      26945     other         9329       0    10154  2001-12-17   \n",
      "441      26945      home         4197       0    10333  2003-10-16   \n",
      "442      26945      home         3643       0    11434  2010-03-24   \n",
      "\n",
      "       loan_end  rate  \n",
      "0    2003-12-20  2.15  \n",
      "1    2005-07-17  1.25  \n",
      "2    2007-07-05  0.68  \n",
      "3    2013-05-05  1.24  \n",
      "4    2012-05-21  3.13  \n",
      "..          ...   ...  \n",
      "438  2004-06-11  2.46  \n",
      "439  2005-06-21  5.27  \n",
      "440  2004-07-22  5.65  \n",
      "441  2005-07-10  4.50  \n",
      "442  2011-12-22  0.13  \n",
      "\n",
      "[443 rows x 8 columns]\n"
     ]
    }
   ],
   "source": [
    "# 1. وارد کردن داده‌ها\n",
    "df = pd.read_csv('loans.csv')\n",
    "print(df)"
   ]
  },
  {
   "cell_type": "code",
   "execution_count": 5,
   "id": "e0cc1a6e-5c9d-4d7b-821d-5d5fcb96f374",
   "metadata": {},
   "outputs": [
    {
     "name": "stdout",
     "output_type": "stream",
     "text": [
      "اطلاعات کلی دیتاست:\n",
      "<class 'pandas.core.frame.DataFrame'>\n",
      "RangeIndex: 443 entries, 0 to 442\n",
      "Data columns (total 8 columns):\n",
      " #   Column       Non-Null Count  Dtype  \n",
      "---  ------       --------------  -----  \n",
      " 0   client_id    443 non-null    int64  \n",
      " 1   loan_type    443 non-null    object \n",
      " 2   loan_amount  443 non-null    int64  \n",
      " 3   repaid       443 non-null    int64  \n",
      " 4   loan_id      443 non-null    int64  \n",
      " 5   loan_start   443 non-null    object \n",
      " 6   loan_end     443 non-null    object \n",
      " 7   rate         443 non-null    float64\n",
      "dtypes: float64(1), int64(4), object(3)\n",
      "memory usage: 27.8+ KB\n",
      "None\n",
      "نمونه‌ای از داده‌ها:\n",
      "   client_id loan_type  loan_amount  repaid  loan_id  loan_start    loan_end  \\\n",
      "0      46109      home        13672       0    10243  2002-04-16  2003-12-20   \n",
      "1      46109    credit         9794       0    10984  2003-10-21  2005-07-17   \n",
      "2      46109      home        12734       1    10990  2006-02-01  2007-07-05   \n",
      "3      46109      cash        12518       1    10596  2010-12-08  2013-05-05   \n",
      "4      46109    credit        14049       1    11415  2010-07-07  2012-05-21   \n",
      "\n",
      "   rate  \n",
      "0  2.15  \n",
      "1  1.25  \n",
      "2  0.68  \n",
      "3  1.24  \n",
      "4  3.13  \n"
     ]
    }
   ],
   "source": [
    "# 2. بررسی اولیه داده‌ها\n",
    "print(\"اطلاعات کلی دیتاست:\")\n",
    "print(df.info())\n",
    "print(\"نمونه‌ای از داده‌ها:\")\n",
    "print(df.head())\n"
   ]
  },
  {
   "cell_type": "code",
   "execution_count": 6,
   "id": "48714734-a198-4cbf-bccf-45fb7138aece",
   "metadata": {},
   "outputs": [],
   "source": [
    "# 3. مدیریت داده‌های گمشده\n",
    "imputer = SimpleImputer(strategy='median')\n",
    "df[df.select_dtypes(include=[np.number]).columns] = imputer.fit_transform(df.select_dtypes(include=[np.number]))\n",
    "\n",
    "df.fillna(\"Unknown\", inplace=True)  # برای متغیرهای غیر عددی"
   ]
  },
  {
   "cell_type": "code",
   "execution_count": 7,
   "id": "8a2e3277-1ce4-4a9d-8b4b-f41af7aa8922",
   "metadata": {},
   "outputs": [],
   "source": [
    "# 4. تشخیص داده‌های پرت و پردازش آن‌ها\n",
    "numeric_cols = df.select_dtypes(include=[np.number]).columns\n",
    "for col in numeric_cols:\n",
    "    Q1 = df[col].quantile(0.25)\n",
    "    Q3 = df[col].quantile(0.75)\n",
    "    IQR = Q3 - Q1\n",
    "    lower_bound = Q1 - 1.5 * IQR\n",
    "    upper_bound = Q3 + 1.5 * IQR\n",
    "    df[col] = np.where(df[col] > upper_bound, upper_bound, df[col])\n",
    "    df[col] = np.where(df[col] < lower_bound, lower_bound, df[col])\n"
   ]
  },
  {
   "cell_type": "code",
   "execution_count": 8,
   "id": "93493d25-34ff-4cee-8b6f-7160aee6cfa8",
   "metadata": {},
   "outputs": [],
   "source": [
    "# 5. تبدیل متغیرهای عددی\n",
    "for col in numeric_cols:\n",
    "    df[col] = np.log1p(df[col])  # تبدیل لگاریتمی برای کاهش نوسانات\n"
   ]
  },
  {
   "cell_type": "code",
   "execution_count": 9,
   "id": "49ad8f93-2284-4ad9-9cda-a5c040948ad0",
   "metadata": {},
   "outputs": [],
   "source": [
    "# 6. استانداردسازی متغیرهای عددی\n",
    "scaler = StandardScaler()\n",
    "df[numeric_cols] = scaler.fit_transform(df[numeric_cols])"
   ]
  },
  {
   "cell_type": "code",
   "execution_count": 10,
   "id": "e8e7b250-329d-473b-b328-264fcf1a24f2",
   "metadata": {},
   "outputs": [],
   "source": [
    "# 7. کدگذاری متغیرهای دسته‌ای\n",
    "categorical_cols = df.select_dtypes(include=['object']).columns\n",
    "for col in categorical_cols:\n",
    "    if df[col].nunique() <= 10:\n",
    "        df = pd.get_dummies(df, columns=[col], drop_first=True)  # OneHot Encoding\n",
    "    else:\n",
    "        le = LabelEncoder()\n",
    "        df[col] = le.fit_transform(df[col])"
   ]
  },
  {
   "cell_type": "code",
   "execution_count": 14,
   "id": "81c58c23-e8d2-4fd7-92d3-b596357fc3ec",
   "metadata": {},
   "outputs": [
    {
     "name": "stdout",
     "output_type": "stream",
     "text": [
      "پیش‌پردازش داده‌ها تکمیل شد و داده‌های پردازش‌شده ذخیره شدند.\n"
     ]
    }
   ],
   "source": [
    "print(df.columns)  # نمایش نام تمام ستون‌های موجود\n",
    "# 8. تقسیم داده‌ها به آموزش و آزمایش\n",
    "\n",
    "# تقسیم داده‌ها به متغیرهای مستقل (X) و وابسته (y)\n",
    "X = df.drop(columns=['repaid'])  # حذف ستون هدف از ویژگی‌ها\n",
    "y = df['repaid']  # متغیر هدف\n",
    "\n",
    "# تقسیم داده‌ها به مجموعه‌های آموزشی و آزمایشی\n",
    "X_train, X_test, y_train, y_test = train_test_split(X, y, test_size=0.2, random_state=42)\n",
    "\n",
    "# ذخیره داده‌های پردازش‌شده\n",
    "X_train.to_csv('X_train_processed.csv', index=False)\n",
    "X_test.to_csv('X_test_processed.csv', index=False)\n",
    "y_train.to_csv('y_train_processed.csv', index=False)\n",
    "y_test.to_csv('y_test_processed.csv', index=False)\n",
    "\n",
    "print(\"پیش‌پردازش داده‌ها تکمیل شد و داده‌های پردازش‌شده ذخیره شدند.\")\n"
   ]
  },
  {
   "cell_type": "markdown",
   "id": "dd2d34cf-e4e9-47d9-9ba7-eeb6b262b9d3",
   "metadata": {
    "jp-MarkdownHeadingCollapsed": true
   },
   "source": [
    "## بخش دوم تمرین اول"
   ]
  },
  {
   "cell_type": "code",
   "execution_count": 15,
   "id": "2243c02e-ef68-4d00-b118-5d7ae4b16bc8",
   "metadata": {},
   "outputs": [
    {
     "name": "stdout",
     "output_type": "stream",
     "text": [
      "<class 'pandas.core.frame.DataFrame'>\n",
      "RangeIndex: 443 entries, 0 to 442\n",
      "Data columns (total 8 columns):\n",
      " #   Column       Non-Null Count  Dtype  \n",
      "---  ------       --------------  -----  \n",
      " 0   client_id    443 non-null    int64  \n",
      " 1   loan_type    443 non-null    object \n",
      " 2   loan_amount  443 non-null    int64  \n",
      " 3   repaid       443 non-null    int64  \n",
      " 4   loan_id      443 non-null    int64  \n",
      " 5   loan_start   443 non-null    object \n",
      " 6   loan_end     443 non-null    object \n",
      " 7   rate         443 non-null    float64\n",
      "dtypes: float64(1), int64(4), object(3)\n",
      "memory usage: 27.8+ KB\n",
      "None\n"
     ]
    }
   ],
   "source": [
    "import pandas as pd\n",
    "import numpy as np\n",
    "import matplotlib.pyplot as plt\n",
    "import seaborn as sns\n",
    "from sklearn.model_selection import train_test_split\n",
    "from sklearn.linear_model import LinearRegression\n",
    "from sklearn.metrics import mean_squared_error, r2_score\n",
    "\n",
    "# خواندن داده‌ها\n",
    "df = pd.read_csv(\"loans.csv\")\n",
    "\n",
    "# نمایش اطلاعات اولیه دیتافریم\n",
    "print(df.info())\n",
    "\n",
    "# انتخاب متغیرهای مستقل و متغیر هدف\n",
    "X = df.drop(columns=['loan_amount'])  # همه ویژگی‌ها به جز loan_amount\n",
    "y = df['loan_amount']  # مقدار وام به عنوان متغیر هدف\n",
    "\n",
    "# تقسیم داده‌ها به مجموعه آموزشی و آزمایشی (۸۰٪ آموزش، ۲۰٪ تست)\n",
    "X_train, X_test, y_train, y_test = train_test_split(X, y, test_size=0.2, random_state=42)\n"
   ]
  },
  {
   "cell_type": "code",
   "execution_count": 16,
   "id": "2c87b8af-9f3d-4b2b-bfd1-acba4f20981c",
   "metadata": {},
   "outputs": [
    {
     "name": "stdout",
     "output_type": "stream",
     "text": [
      "نتایج مدل رگرسیون خطی ساده:\n",
      "Mean Squared Error: 15486298.545382299\n",
      "R² Score: -0.011749047739805007\n"
     ]
    }
   ],
   "source": [
    "# انتخاب یک ویژگی (مثلاً نرخ بهره 'rate')\n",
    "X_train_single = X_train[['rate']]\n",
    "X_test_single = X_test[['rate']]\n",
    "\n",
    "# مدل‌سازی\n",
    "model_single = LinearRegression()\n",
    "model_single.fit(X_train_single, y_train)\n",
    "\n",
    "# پیش‌بینی مقادیر\n",
    "y_pred_single = model_single.predict(X_test_single)\n",
    "\n",
    "# ارزیابی مدل\n",
    "mse_single = mean_squared_error(y_test, y_pred_single)\n",
    "r2_single = r2_score(y_test, y_pred_single)\n",
    "\n",
    "print(f\"نتایج مدل رگرسیون خطی ساده:\")\n",
    "print(f\"Mean Squared Error: {mse_single}\")\n",
    "print(f\"R² Score: {r2_single}\")\n"
   ]
  },
  {
   "cell_type": "code",
   "execution_count": 21,
   "id": "740a543a-567a-49f0-93b2-0f6116d294f6",
   "metadata": {},
   "outputs": [
    {
     "name": "stdout",
     "output_type": "stream",
     "text": [
      "client_id        int64\n",
      "loan_type       object\n",
      "loan_amount      int64\n",
      "repaid           int64\n",
      "loan_id          int64\n",
      "loan_start      object\n",
      "loan_end        object\n",
      "rate           float64\n",
      "dtype: object\n"
     ]
    }
   ],
   "source": [
    "print(df.dtypes)\n"
   ]
  },
  {
   "cell_type": "code",
   "execution_count": 22,
   "id": "19c7285c-44bf-4e07-aed6-0dabda51c8ff",
   "metadata": {},
   "outputs": [
    {
     "name": "stdout",
     "output_type": "stream",
     "text": [
      "ستون‌های دسته‌بندی‌شده: ['loan_type', 'loan_start', 'loan_end']\n"
     ]
    }
   ],
   "source": [
    "# پیدا کردن همه ستون‌های متنی (دسته‌بندی‌شده)\n",
    "categorical_columns = df.select_dtypes(include=['object']).columns.tolist()\n",
    "print(\"ستون‌های دسته‌بندی‌شده:\", categorical_columns)\n"
   ]
  },
  {
   "cell_type": "code",
   "execution_count": 23,
   "id": "0deca9d8-945e-402c-9743-1cfe90b519ab",
   "metadata": {},
   "outputs": [
    {
     "name": "stdout",
     "output_type": "stream",
     "text": [
      "داده‌های تبدیل‌شده:    client_id  loan_amount  repaid  loan_id  loan_start    loan_end  rate  \\\n",
      "0      46109        13672       0    10243  2002-04-16  2003-12-20  2.15   \n",
      "1      46109         9794       0    10984  2003-10-21  2005-07-17  1.25   \n",
      "2      46109        12734       1    10990  2006-02-01  2007-07-05  0.68   \n",
      "3      46109        12518       1    10596  2010-12-08  2013-05-05  1.24   \n",
      "4      46109        14049       1    11415  2010-07-07  2012-05-21  3.13   \n",
      "\n",
      "   loan_type_credit  loan_type_home  loan_type_other  \n",
      "0               0.0             1.0              0.0  \n",
      "1               1.0             0.0              0.0  \n",
      "2               0.0             1.0              0.0  \n",
      "3               0.0             0.0              0.0  \n",
      "4               1.0             0.0              0.0  \n"
     ]
    }
   ],
   "source": [
    "from sklearn.preprocessing import OneHotEncoder\n",
    "import pandas as pd\n",
    "\n",
    "# پیدا کردن تنها ستون دسته‌ای (loan_type)\n",
    "categorical_columns = ['loan_type']\n",
    "\n",
    "# اجرای One-Hot Encoding\n",
    "encoder = OneHotEncoder(drop='first', sparse_output=False)\n",
    "X_encoded = pd.DataFrame(encoder.fit_transform(df[categorical_columns]), columns=encoder.get_feature_names_out(categorical_columns))\n",
    "\n",
    "# حذف ستون اصلی و اضافه کردن ستون‌های جدید\n",
    "df = df.drop(columns=categorical_columns)\n",
    "df = pd.concat([df, X_encoded], axis=1)\n",
    "\n",
    "print(\"داده‌های تبدیل‌شده:\", df.head())\n"
   ]
  },
  {
   "cell_type": "code",
   "execution_count": null,
   "id": "ef0c6665-1757-4986-a52a-3520a57a3223",
   "metadata": {},
   "outputs": [],
   "source": [
    "import pandas as pd\n",
    "\n",
    "# تبدیل ستون‌های تاریخ به فرمت datetime\n",
    "df[\"loan_start\"] = pd.to_datetime(df[\"loan_start\"])\n",
    "df[\"loan_end\"] = pd.to_datetime(df[\"loan_end\"])\n",
    "\n",
    "# تبدیل تاریخ‌ها به تعداد روز از تاریخ مرجع (مثلاً ۱ ژانویه ۲۰۰0)\n",
    "reference_date = pd.Timestamp(\"2000-01-01\")\n",
    "df[\"loan_start_days\"] = (df[\"loan_start\"] - reference_date).dt.days\n",
    "df[\"loan_end_days\"] = (df[\"loan_end\"] - reference_date).dt.days\n",
    "\n",
    "# حذف ستون‌های متنی تاریخ\n",
    "df = df.drop(columns=[\"loan_start\", \"loan_end\"])\n"
   ]
  },
  {
   "cell_type": "code",
   "execution_count": 31,
   "id": "16b46e35-2822-44d4-8358-dac1ef34d178",
   "metadata": {},
   "outputs": [
    {
     "name": "stdout",
     "output_type": "stream",
     "text": [
      "\n",
      "نتایج مدل رگرسیون خطی چندمتغیره:\n",
      "Mean Squared Error: 0.28096662918603277\n",
      "R² Score: -0.25736535015964157\n"
     ]
    }
   ],
   "source": [
    "from sklearn.model_selection import train_test_split\n",
    "from sklearn.linear_model import LinearRegression\n",
    "from sklearn.metrics import mean_squared_error, r2_score\n",
    "\n",
    "# انتخاب ویژگی‌ها (همه ستون‌ها به جز ستون هدف)\n",
    "X = df.drop(columns=[\"repaid\"])  # فرض بر اینکه ستون هدف 'repaid' است\n",
    "y = df[\"repaid\"]\n",
    "\n",
    "# تقسیم داده‌ها به آموزش و تست\n",
    "X_train, X_test, y_train, y_test = train_test_split(X, y, test_size=0.2, random_state=42)\n",
    "\n",
    "# مدل رگرسیون خطی چندمتغیره\n",
    "model_multi = LinearRegression()\n",
    "model_multi.fit(X_train, y_train)\n",
    "\n",
    "# پیش‌بینی\n",
    "y_pred_multi = model_multi.predict(X_test)\n",
    "\n",
    "# ارزیابی مدل\n",
    "mse_multi = mean_squared_error(y_test, y_pred_multi)\n",
    "r2_multi = r2_score(y_test, y_pred_multi)\n",
    "\n",
    "print(f\"\\nنتایج مدل رگرسیون خطی چندمتغیره:\")\n",
    "print(f\"Mean Squared Error: {mse_multi}\")\n",
    "print(f\"R² Score: {r2_multi}\")\n"
   ]
  },
  {
   "cell_type": "code",
   "execution_count": null,
   "id": "d64d814f-def0-4f2a-9adb-f9bf4f0a4fd3",
   "metadata": {},
   "outputs": [],
   "source": []
  }
 ],
 "metadata": {
  "kernelspec": {
   "display_name": "Python 3 (ipykernel)",
   "language": "python",
   "name": "python3"
  },
  "language_info": {
   "codemirror_mode": {
    "name": "ipython",
    "version": 3
   },
   "file_extension": ".py",
   "mimetype": "text/x-python",
   "name": "python",
   "nbconvert_exporter": "python",
   "pygments_lexer": "ipython3",
   "version": "3.11.2"
  }
 },
 "nbformat": 4,
 "nbformat_minor": 5
}
